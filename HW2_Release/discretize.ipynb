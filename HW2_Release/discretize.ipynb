{
 "cells": [
  {
   "cell_type": "code",
   "execution_count": 1,
   "metadata": {},
   "outputs": [
    {
     "name": "stdout",
     "output_type": "stream",
     "text": [
      "age : [3710, 2932, 97, 5, 0]\n",
      "age_o : [3704, 2899, 136, 5, 0]\n",
      "importance_same_race : [2980, 1213, 1013, 977, 561]\n",
      "importance_same_religion : [3203, 1188, 1110, 742, 501]\n",
      "pref_o_attractive : [4333, 1987, 344, 51, 29]\n",
      "pref_o_sincere : [5500, 1225, 19, 0, 0]\n",
      "pref_o_intelligence : [4601, 2062, 81, 0, 0]\n",
      "pref_o_funny : [5616, 1103, 25, 0, 0]\n",
      "pref_o_ambitious : [6656, 88, 0, 0, 0]\n",
      "pref_o_shared_interests : [6467, 277, 0, 0, 0]\n",
      "attractive_important : [4323, 2017, 328, 57, 19]\n",
      "sincere_important : [5495, 1235, 14, 0, 0]\n",
      "intelligence_important : [4606, 2071, 67, 0, 0]\n",
      "funny_important : [5588, 1128, 28, 0, 0]\n",
      "ambition_important : [6644, 100, 0, 0, 0]\n",
      "shared_interests_important : [6494, 250, 0, 0, 0]\n",
      "attractive : [4122, 1462, 866, 276, 18]\n",
      "sincere : [3392, 2715, 487, 117, 33]\n",
      "intelligence : [3190, 2286, 1049, 185, 34]\n",
      "funny : [3313, 3191, 221, 19, 0]\n",
      "ambition : [2876, 2387, 1070, 327, 84]\n",
      "attractive_partner : [2418, 2390, 948, 704, 284]\n",
      "sincere_partner : [3282, 1627, 1388, 353, 94]\n",
      "intelligence_parter : [3509, 1509, 1497, 193, 36]\n",
      "funny_partner : [2600, 2296, 836, 733, 279]\n",
      "ambition_partner : [2804, 2258, 1090, 473, 119]\n",
      "shared_interests_partner : [2536, 1774, 1269, 701, 464]\n",
      "sports : [2077, 1687, 1369, 961, 650]\n",
      "tvsports : [2151, 1383, 1292, 1233, 685]\n",
      "exercise : [2115, 1775, 1283, 952, 619]\n",
      "dining : [2797, 2618, 1118, 172, 39]\n",
      "museums : [2737, 1741, 1417, 732, 117]\n",
      "art : [2500, 1557, 1517, 946, 224]\n",
      "hiking : [1855, 1575, 1386, 965, 963]\n",
      "gaming : [2565, 1522, 1435, 979, 243]\n",
      "clubbing : [2193, 1668, 1068, 912, 903]\n",
      "reading : [2827, 2317, 1071, 398, 131]\n",
      "tv : [1999, 1642, 1216, 1188, 699]\n",
      "theater : [2300, 1760, 1585, 811, 288]\n",
      "movies : [2825, 2783, 843, 248, 45]\n",
      "concerts : [2282, 1752, 1711, 777, 222]\n",
      "music : [2797, 2583, 1106, 196, 62]\n",
      "shopping : [1709, 1643, 1201, 1098, 1093]\n",
      "yoga : [2285, 1392, 1369, 1056, 642]\n",
      "interests_correlate : [2875, 2520, 758, 573, 18]\n",
      "expected_happy_with_sd_people : [3292, 1596, 1262, 321, 273]\n",
      "like : [2560, 2539, 865, 507, 273]\n"
     ]
    }
   ],
   "source": [
    "import warnings\n",
    "warnings.filterwarnings('ignore')\n",
    "import numpy as np\n",
    "import pandas as pd\n",
    "import sys\n",
    "import os\n",
    "inputfile = sys.argv[1]\n",
    "outputfile = sys.argv[2]\n",
    "data = pd.read_csv(inputfile)\n",
    "labels = range(5)\n",
    "\n",
    "list_col =  list(data.columns.values)\n",
    "list_col_full = list(data.columns.values)\n",
    "list_nobins = ['gender','race','race_o','samerace','field','decision']\n",
    "print_list = list_col_full\n",
    "for i in ['gender','race','race_o','samerace','field','decision']:\n",
    "    list_col.remove(i)\n",
    "list_col_part1=['attractive_important','sincere_important','intelligence_important',\\\n",
    "        'funny_important','ambition_important','shared_interests_important',\\\n",
    "        'pref_o_attractive','pref_o_sincere','pref_o_intelligence',\\\n",
    "        'pref_o_funny','pref_o_ambitious','pref_o_shared_interests']\n",
    "list_col_age=['age','age_o']\n",
    "list_Range_10 = ['importance_same_race','importance_same_religion','attractive', 'sincere',\\\n",
    "                 'intelligence', 'funny', 'ambition', 'attractive_partner', 'sincere_partner',\\\n",
    "                 'intelligence_parter', 'funny_partner', 'ambition_partner', \\\n",
    "                 'shared_interests_partner', 'sports', 'tvsports', 'exercise',\\\n",
    "                 'dining', 'museums', 'art', 'hiking', 'gaming', 'clubbing', 'reading',\\\n",
    "                 'tv', 'theater', 'movies', 'concerts', 'music', 'shopping', 'yoga',\\\n",
    "                 'expected_happy_with_sd_people', 'like']\n",
    "list_correlate = ['interests_correlate']\n",
    "minval_age=18\n",
    "maxval_age=58\n",
    "minval_part1=0\n",
    "maxval_part1=1\n",
    "minval_range10 =0\n",
    "maxval_Range10=10\n",
    "minval_correlate=-1\n",
    "maxval_correlate=1\n",
    "t3 = data[list_col_full] \n",
    "for i in list_col_full:\n",
    "    if i in list_nobins:\n",
    "        t3[i+\"_bin\"] =  t3[i]\n",
    "    elif i in list_col_part1:\n",
    "        t3[i+\"_bin\"] = pd.cut(t3[i], bins = np.linspace(minval_part1, maxval_part1, 6),include_lowest=True,labels=labels)\n",
    "    elif i in list_col_age:\n",
    "        t3[i+\"_bin\"] = pd.cut(t3[i],bins = np.linspace(minval_age, maxval_age, 6)\\\n",
    "                              ,include_lowest=True,labels=labels)\n",
    "    elif i in list_Range_10:\n",
    "        t3[i+\"_bin\"] = pd.cut(t3[i], bins = np.linspace(minval_range10, maxval_Range10, 6)\\\n",
    "                              ,include_lowest=True,labels=labels)\n",
    "    elif i in list_correlate:\n",
    "        t3[i+\"_bin\"] = pd.cut(t3[i], bins = np.linspace(minval_correlate, maxval_correlate, 6)\\\n",
    "                              ,include_lowest=True,labels=labels)\n",
    "    else:\n",
    "        t3[i+\"_bin\"] = pd.cut(t3[i], 5, labels=labels)  \n",
    "for i in list_col:\n",
    "    data[i] = t3[i+\"_bin\"]\n",
    "for i in list_col:    \n",
    "    df = data[i].value_counts()\n",
    "    print i,\":\", df.values.tolist()\n",
    "\n",
    "data.to_csv(outputfile,index = False)"
   ]
  },
  {
   "cell_type": "code",
   "execution_count": 87,
   "metadata": {},
   "outputs": [],
   "source": [
    "import scipy as sp\n",
    "import warnings\n",
    "warnings.filterwarnings('ignore')\n",
    "import numpy as np\n",
    "import pandas as pd\n",
    "import nltk\n",
    "import re\n",
    "import os\n",
    "data = pd.read_csv('dating.csv')\n",
    "labels = range(5)\n",
    "#    return df\n",
    "#print data['age']\n",
    "#print pd.cut(data['age'], 5).value_counts()\n",
    "\n",
    "\n"
   ]
  },
  {
   "cell_type": "code",
   "execution_count": 88,
   "metadata": {},
   "outputs": [],
   "source": [
    "list_col_full = list(data.columns.values)\n",
    "list_nobins = ['gender','race','race_o','samerace','field','decision']\n",
    "print_list = list_col_full\n",
    "for i in ['gender','race','race_o','samerace','field','decision']:\n",
    "    print_list.remove(i)\n",
    "list_col_part1=['attractive_important','sincere_important','intelligence_important',\\\n",
    "        'funny_important','ambition_important','shared_interests_important',\\\n",
    "        'pref_o_attractive','pref_o_sincere','pref_o_intelligence',\\\n",
    "        'pref_o_funny','pref_o_ambitious','pref_o_shared_interests']\n",
    "list_col_age=['age','age_o']\n",
    "list_Range_10 = ['importance_same_race','importance_same_religion','attractive', 'sincere',\\\n",
    "                 'intelligence', 'funny', 'ambition', 'attractive_partner', 'sincere_partner',\\\n",
    "                 'intelligence_parter', 'funny_partner', 'ambition_partner', \\\n",
    "                 'shared_interests_partner', 'sports', 'tvsports', 'exercise',\\\n",
    "                 'dining', 'museums', 'art', 'hiking', 'gaming', 'clubbing', 'reading',\\\n",
    "                 'tv', 'theater', 'movies', 'concerts', 'music', 'shopping', 'yoga',\\\n",
    "                 'expected_happy_with_sd_people', 'like']\n",
    "list_correlate = ['interests_correlate']\n",
    "#print list_col\n",
    "#print list_col_full"
   ]
  },
  {
   "cell_type": "code",
   "execution_count": 89,
   "metadata": {},
   "outputs": [],
   "source": [
    "t3 = data[list_col_full] \n",
    "for i in list_col_full:\n",
    "    if i in list_nobins:\n",
    "        t3[i+\"_bin\"] =  t3[i]\n",
    "    elif i in list_col_part1:\n",
    "        t3[i+\"_bin\"] = pd.cut(t3[i], bins=[0,0.2,0.4,0.6,0.8,1.0],include_lowest=True,labels=labels)\n",
    "    elif i in list_col_age:\n",
    "        t3[i+\"_bin\"] = pd.cut(t3[i],bins=[18,26,34,42,50,58],include_lowest=True,labels=labels)\n",
    "    elif i in list_Range_10:\n",
    "        t3[i+\"_bin\"] = pd.cut(t3[i], bins=[0,2,4,6,8,10],include_lowest=True,labels=labels)\n",
    "    elif i in list_correlate:\n",
    "        t3[i+\"_bin\"] = pd.cut(t3[i], bins=[-1,-0.6,-0.2,0.2,0.6,1],include_lowest=True,labels=labels)\n",
    "    else:\n",
    "        t3[i+\"_bin\"] = pd.cut(t3[i], 5, labels=labels)  \n",
    "for i in list_col:\n",
    "    data[i] = t3[i+\"_bin\"]"
   ]
  },
  {
   "cell_type": "code",
   "execution_count": 85,
   "metadata": {},
   "outputs": [
    {
     "data": {
      "text/plain": [
       "0    3704\n",
       "1    2899\n",
       "2     136\n",
       "4       5\n",
       "3       0\n",
       "Name: age_o, dtype: int64"
      ]
     },
     "execution_count": 85,
     "metadata": {},
     "output_type": "execute_result"
    }
   ],
   "source": [
    "pd.cut(t3['age_o'],bins=[18,26,34,42,50,58],include_lowest=True,labels=labels).value_counts()\n",
    "#pd.cut(test.days, [0,30,60], right=False)\n",
    "#print t3['age'] \n",
    "#print t3['age_bin']"
   ]
  },
  {
   "cell_type": "code",
   "execution_count": 47,
   "metadata": {},
   "outputs": [
    {
     "data": {
      "text/plain": [
       "(-0.001, 0.2]    5500\n",
       "(0.2, 0.4]       1225\n",
       "(0.4, 0.6]         19\n",
       "(0.8, 1.0]          0\n",
       "(0.6, 0.8]          0\n",
       "Name: pref_o_sincere, dtype: int64"
      ]
     },
     "execution_count": 47,
     "metadata": {},
     "output_type": "execute_result"
    }
   ],
   "source": [
    "#pd.cut(t3['pref_o_sincere'], 5).unique()\n",
    "#print t3['pref_o_sincere']\n",
    "bins = [0.0,0.2,0.4,0.6,0.8,1.0]\n",
    "pd.cut(t3.pref_o_sincere, bins=[0,0.2,0.4,0.6,0.8,1.0],include_lowest=True).value_counts()"
   ]
  },
  {
   "cell_type": "code",
   "execution_count": 90,
   "metadata": {},
   "outputs": [
    {
     "name": "stdout",
     "output_type": "stream",
     "text": [
      "age : [3710, 2932, 97, 5, 0]\n",
      "age_o : [3704, 2899, 136, 5, 0]\n",
      "importance_same_race : [2980, 1213, 1013, 977, 561]\n",
      "importance_same_religion : [3203, 1188, 1110, 742, 501]\n",
      "pref_o_attractive : [4333, 1987, 344, 51, 29]\n",
      "pref_o_sincere : [5500, 1225, 19, 0, 0]\n",
      "pref_o_intelligence : [4601, 2062, 81, 0, 0]\n",
      "pref_o_funny : [5616, 1103, 25, 0, 0]\n",
      "pref_o_ambitious : [6656, 88, 0, 0, 0]\n",
      "pref_o_shared_interests : [6467, 277, 0, 0, 0]\n",
      "attractive_important : [4323, 2017, 328, 57, 19]\n",
      "sincere_important : [5495, 1235, 14, 0, 0]\n",
      "intelligence_important : [4606, 2071, 67, 0, 0]\n",
      "funny_important : [5588, 1128, 28, 0, 0]\n",
      "ambition_important : [6644, 100, 0, 0, 0]\n",
      "shared_interests_important : [6494, 250, 0, 0, 0]\n",
      "attractive : [4122, 1462, 866, 276, 18]\n",
      "sincere : [3392, 2715, 487, 117, 33]\n",
      "intelligence : [3190, 2286, 1049, 185, 34]\n",
      "funny : [3313, 3191, 221, 19, 0]\n",
      "ambition : [2876, 2387, 1070, 327, 84]\n",
      "attractive_partner : [2418, 2390, 948, 704, 284]\n",
      "sincere_partner : [3282, 1627, 1388, 353, 94]\n",
      "intelligence_parter : [3509, 1509, 1497, 193, 36]\n",
      "funny_partner : [2600, 2296, 836, 733, 279]\n",
      "ambition_partner : [2804, 2258, 1090, 473, 119]\n",
      "shared_interests_partner : [2536, 1774, 1269, 701, 464]\n",
      "sports : [2077, 1687, 1369, 961, 650]\n",
      "tvsports : [2151, 1383, 1292, 1233, 685]\n",
      "exercise : [2115, 1775, 1283, 952, 619]\n",
      "dining : [2797, 2618, 1118, 172, 39]\n",
      "museums : [2737, 1741, 1417, 732, 117]\n",
      "art : [2500, 1557, 1517, 946, 224]\n",
      "hiking : [1855, 1575, 1386, 965, 963]\n",
      "gaming : [2565, 1522, 1435, 979, 243]\n",
      "clubbing : [2193, 1668, 1068, 912, 903]\n",
      "reading : [2827, 2317, 1071, 398, 131]\n",
      "tv : [1999, 1642, 1216, 1188, 699]\n",
      "theater : [2300, 1760, 1585, 811, 288]\n",
      "movies : [2825, 2783, 843, 248, 45]\n",
      "concerts : [2282, 1752, 1711, 777, 222]\n",
      "music : [2797, 2583, 1106, 196, 62]\n",
      "shopping : [1709, 1643, 1201, 1098, 1093]\n",
      "yoga : [2285, 1392, 1369, 1056, 642]\n",
      "interests_correlate : [2875, 2520, 758, 573, 18]\n",
      "expected_happy_with_sd_people : [3292, 1596, 1262, 321, 273]\n",
      "like : [2560, 2539, 865, 507, 273]\n"
     ]
    }
   ],
   "source": [
    "for i in list_col:    \n",
    "    df = data[i].value_counts()\n",
    "    print i,\":\", df.values.tolist()\n",
    "#data.to_csv('dating-binned.csv',index = False)"
   ]
  },
  {
   "cell_type": "code",
   "execution_count": 55,
   "metadata": {},
   "outputs": [
    {
     "name": "stdout",
     "output_type": "stream",
     "text": [
      "['gender', 'age', 'age_o', 'race', 'race_o', 'samerace', 'importance_same_race', 'importance_same_religion', 'field', 'pref_o_attractive', 'pref_o_sincere', 'pref_o_intelligence', 'pref_o_funny', 'pref_o_ambitious', 'pref_o_shared_interests', 'attractive_important', 'sincere_important', 'intelligence_important', 'funny_important', 'ambition_important', 'shared_interests_important', 'attractive', 'sincere', 'intelligence', 'funny', 'ambition', 'attractive_partner', 'sincere_partner', 'intelligence_parter', 'funny_partner', 'ambition_partner', 'shared_interests_partner', 'sports', 'tvsports', 'exercise', 'dining', 'museums', 'art', 'hiking', 'gaming', 'clubbing', 'reading', 'tv', 'theater', 'movies', 'concerts', 'music', 'shopping', 'yoga', 'interests_correlate', 'expected_happy_with_sd_people', 'like', 'decision']\n"
     ]
    }
   ],
   "source": [
    "print list(data.columns)"
   ]
  }
 ],
 "metadata": {
  "kernelspec": {
   "display_name": "Python 2",
   "language": "python",
   "name": "python2"
  },
  "language_info": {
   "codemirror_mode": {
    "name": "ipython",
    "version": 2
   },
   "file_extension": ".py",
   "mimetype": "text/x-python",
   "name": "python",
   "nbconvert_exporter": "python",
   "pygments_lexer": "ipython2",
   "version": "2.7.15"
  }
 },
 "nbformat": 4,
 "nbformat_minor": 2
}
