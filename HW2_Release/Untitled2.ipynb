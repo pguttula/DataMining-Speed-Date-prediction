{
 "cells": [
  {
   "cell_type": "code",
   "execution_count": null,
   "metadata": {},
   "outputs": [],
   "source": [
    "import warnings\n",
    "warnings.filterwarnings('ignore')\n",
    "import numpy as np\n",
    "import pandas as pd\n",
    "import sys\n",
    "import os\n",
    "\n",
    "inputfile = sys.argv[1]\n",
    "outputtrain = sys.argv[2]\n",
    "outputtest = sys.argv[3]\n",
    "data = pd.read_csv(inputfile)\n",
    "data_test = data.sample(random_state=47,frac=0.2)\n",
    "#print data_test\n",
    "data_test.to_csv(outputtest,index = False)\n",
    "data_train = data[~data.index.isin(data_test.index)]\n",
    "#print data_train\n",
    "data_train.to_csv(outputtrain,index = False)\n"
   ]
  }
 ],
 "metadata": {
  "kernelspec": {
   "display_name": "Python 2",
   "language": "python",
   "name": "python2"
  },
  "language_info": {
   "codemirror_mode": {
    "name": "ipython",
    "version": 2
   },
   "file_extension": ".py",
   "mimetype": "text/x-python",
   "name": "python",
   "nbconvert_exporter": "python",
   "pygments_lexer": "ipython2",
   "version": "2.7.15"
  }
 },
 "nbformat": 4,
 "nbformat_minor": 2
}
