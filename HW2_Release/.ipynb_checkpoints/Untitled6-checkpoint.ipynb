{
 "cells": [
  {
   "cell_type": "code",
   "execution_count": null,
   "metadata": {},
   "outputs": [],
   "source": [
    "import scipy as sp\n",
    "import warnings\n",
    "warnings.filterwarnings('ignore')\n",
    "import numpy as np\n",
    "import pandas as pd\n",
    "import nltk\n",
    "import re\n",
    "import os\n",
    "import matplotlib.pyplot as plt\n",
    "\n",
    "data = pd.read_csv('dating.csv')\n",
    "data_m = data[data['gender'] == 1]\n",
    "data_f = data[data['gender']== 0]\n",
    "tupm=()\n",
    "tupf=()\n",
    "tm = data_m[['attractive_important','sincere_important','intelligence_important',\\\n",
    "        'funny_important','ambition_important','shared_interests_important']]\n",
    "for i in ['attractive_important','sincere_important','intelligence_important',\\\n",
    "        'funny_important','ambition_important','shared_interests_important']:\n",
    "    tupm = tupm + (round(tm[i].mean(),2),)\n",
    "    \n",
    "tf = data_f[['attractive_important','sincere_important','intelligence_important',\\\n",
    "        'funny_important','ambition_important','shared_interests_important']]\n",
    "for i in ['attractive_important','sincere_important','intelligence_important',\\\n",
    "        'funny_important','ambition_important','shared_interests_important']:\n",
    "    tupf = tupf + (round(tf[i].mean(),2),)\n",
    "\n",
    "n_groups = 6\n",
    "#fig, ax = plt.subplots()\n",
    "index = np.arange(n_groups)\n",
    "bar_width =0.35\n",
    "opacity = 0.6\n",
    "plt.figure(figsize=(12, 10))\n",
    "rects1 = plt.bar(index, tupf, bar_width,alpha=opacity,color='tab:pink',label='Female')\n",
    "rects2 = plt.bar(index + bar_width, tupm, bar_width,alpha=opacity,color='tab:blue',label='Male')\n",
    "plt.title('Preference Scores Of Participant -Male vs Female',fontsize=28)\n",
    "plt.xlabel('Preference Scores Of Participant',fontsize=16)\n",
    "plt.xticks(index + 0.5*bar_width, ['attractive', 'sincere', 'intelligence', 'funny','ambition',\\\n",
    "'shared_interests'],fontsize=16)\n",
    "plt.ylabel('Mean',fontsize=16)\n",
    "plt.legend()\n",
    "plt.tight_layout()\n",
    "plt.savefig('Fig-2_1.png', dpi=100)"
   ]
  }
 ],
 "metadata": {
  "kernelspec": {
   "display_name": "Python 2",
   "language": "python",
   "name": "python2"
  },
  "language_info": {
   "codemirror_mode": {
    "name": "ipython",
    "version": 2
   },
   "file_extension": ".py",
   "mimetype": "text/x-python",
   "name": "python",
   "nbconvert_exporter": "python",
   "pygments_lexer": "ipython2",
   "version": "2.7.15"
  }
 },
 "nbformat": 4,
 "nbformat_minor": 2
}
