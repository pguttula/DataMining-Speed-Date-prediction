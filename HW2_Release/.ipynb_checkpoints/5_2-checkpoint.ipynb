{
 "cells": [
  {
   "cell_type": "code",
   "execution_count": 3,
   "metadata": {
    "scrolled": false
   },
   "outputs": [
    {
     "name": "stdout",
     "output_type": "stream",
     "text": [
      "Bin size: 2\n",
      "Training Accuracy: 0.74\n",
      "Test Accuracy: 0.71\n",
      "Bin size: 5\n"
     ]
    },
    {
     "ename": "KeyboardInterrupt",
     "evalue": "",
     "output_type": "error",
     "traceback": [
      "\u001b[0;31m---------------------------------------------------------------------------\u001b[0m",
      "\u001b[0;31mKeyboardInterrupt\u001b[0m                         Traceback (most recent call last)",
      "\u001b[0;32m<ipython-input-3-d4d7b477e6b3>\u001b[0m in \u001b[0;36m<module>\u001b[0;34m()\u001b[0m\n\u001b[1;32m    122\u001b[0m     \u001b[0mdict_yes\u001b[0m\u001b[0;34m,\u001b[0m\u001b[0mdict_no\u001b[0m \u001b[0;34m=\u001b[0m \u001b[0mnbc\u001b[0m\u001b[0;34m(\u001b[0m\u001b[0mt_frac\u001b[0m\u001b[0;34m,\u001b[0m\u001b[0mdata_train\u001b[0m\u001b[0;34m)\u001b[0m\u001b[0;34m\u001b[0m\u001b[0m\n\u001b[1;32m    123\u001b[0m     \u001b[0mf\u001b[0m \u001b[0;34m=\u001b[0m \u001b[0mdict_yes\u001b[0m\u001b[0;34m[\u001b[0m\u001b[0;34m'field'\u001b[0m\u001b[0;34m]\u001b[0m\u001b[0;34m\u001b[0m\u001b[0m\n\u001b[0;32m--> 124\u001b[0;31m     \u001b[0mTrain_accuracy\u001b[0m\u001b[0;34m=\u001b[0m \u001b[0mgetaccuracy\u001b[0m\u001b[0;34m(\u001b[0m\u001b[0mdata_train\u001b[0m\u001b[0;34m,\u001b[0m\u001b[0mdict_yes\u001b[0m\u001b[0;34m,\u001b[0m\u001b[0mdict_no\u001b[0m\u001b[0;34m,\u001b[0m\u001b[0mlist_col\u001b[0m\u001b[0;34m)\u001b[0m\u001b[0;34m\u001b[0m\u001b[0m\n\u001b[0m\u001b[1;32m    125\u001b[0m     \u001b[0;32mprint\u001b[0m \u001b[0;34m\"Training Accuracy:\"\u001b[0m\u001b[0;34m,\u001b[0m \u001b[0mTrain_accuracy\u001b[0m\u001b[0;34m\u001b[0m\u001b[0m\n\u001b[1;32m    126\u001b[0m     \u001b[0mTest_accuracy\u001b[0m\u001b[0;34m=\u001b[0m \u001b[0mgetaccuracy\u001b[0m\u001b[0;34m(\u001b[0m\u001b[0mdata_test\u001b[0m\u001b[0;34m,\u001b[0m\u001b[0mdict_yes\u001b[0m\u001b[0;34m,\u001b[0m\u001b[0mdict_no\u001b[0m\u001b[0;34m,\u001b[0m\u001b[0mlist_col\u001b[0m\u001b[0;34m)\u001b[0m\u001b[0;34m\u001b[0m\u001b[0m\n",
      "\u001b[0;32m<ipython-input-3-d4d7b477e6b3>\u001b[0m in \u001b[0;36mgetaccuracy\u001b[0;34m(df, dict_yes, dict_no, list_col)\u001b[0m\n\u001b[1;32m     70\u001b[0m     \u001b[0mmod_yes\u001b[0m \u001b[0;34m=\u001b[0m \u001b[0mdf\u001b[0m\u001b[0;34m[\u001b[0m\u001b[0mlist_col\u001b[0m\u001b[0;34m]\u001b[0m\u001b[0;34m\u001b[0m\u001b[0m\n\u001b[1;32m     71\u001b[0m     \u001b[0;32mfor\u001b[0m \u001b[0mi\u001b[0m \u001b[0;32min\u001b[0m \u001b[0mlist_col\u001b[0m\u001b[0;34m:\u001b[0m\u001b[0;34m\u001b[0m\u001b[0m\n\u001b[0;32m---> 72\u001b[0;31m         \u001b[0mmod_yes\u001b[0m\u001b[0;34m[\u001b[0m\u001b[0mi\u001b[0m\u001b[0;34m]\u001b[0m \u001b[0;34m=\u001b[0m \u001b[0mmod_yes\u001b[0m\u001b[0;34m[\u001b[0m\u001b[0mi\u001b[0m\u001b[0;34m]\u001b[0m\u001b[0;34m.\u001b[0m\u001b[0mmap\u001b[0m\u001b[0;34m(\u001b[0m\u001b[0mdict_yes\u001b[0m\u001b[0;34m[\u001b[0m\u001b[0mi\u001b[0m\u001b[0;34m]\u001b[0m\u001b[0;34m)\u001b[0m\u001b[0;34m\u001b[0m\u001b[0m\n\u001b[0m\u001b[1;32m     73\u001b[0m \u001b[0;34m\u001b[0m\u001b[0m\n\u001b[1;32m     74\u001b[0m     \u001b[0mmod_no\u001b[0m \u001b[0;34m=\u001b[0m \u001b[0mdf\u001b[0m\u001b[0;34m[\u001b[0m\u001b[0mlist_col\u001b[0m\u001b[0;34m]\u001b[0m\u001b[0;34m\u001b[0m\u001b[0m\n",
      "\u001b[0;32m/Users/Shared/anaconda2/lib/python2.7/site-packages/pandas/core/frame.pyc\u001b[0m in \u001b[0;36m__setitem__\u001b[0;34m(self, key, value)\u001b[0m\n\u001b[1;32m   3117\u001b[0m         \u001b[0;32melse\u001b[0m\u001b[0;34m:\u001b[0m\u001b[0;34m\u001b[0m\u001b[0m\n\u001b[1;32m   3118\u001b[0m             \u001b[0;31m# set column\u001b[0m\u001b[0;34m\u001b[0m\u001b[0;34m\u001b[0m\u001b[0m\n\u001b[0;32m-> 3119\u001b[0;31m             \u001b[0mself\u001b[0m\u001b[0;34m.\u001b[0m\u001b[0m_set_item\u001b[0m\u001b[0;34m(\u001b[0m\u001b[0mkey\u001b[0m\u001b[0;34m,\u001b[0m \u001b[0mvalue\u001b[0m\u001b[0;34m)\u001b[0m\u001b[0;34m\u001b[0m\u001b[0m\n\u001b[0m\u001b[1;32m   3120\u001b[0m \u001b[0;34m\u001b[0m\u001b[0m\n\u001b[1;32m   3121\u001b[0m     \u001b[0;32mdef\u001b[0m \u001b[0m_setitem_slice\u001b[0m\u001b[0;34m(\u001b[0m\u001b[0mself\u001b[0m\u001b[0;34m,\u001b[0m \u001b[0mkey\u001b[0m\u001b[0;34m,\u001b[0m \u001b[0mvalue\u001b[0m\u001b[0;34m)\u001b[0m\u001b[0;34m:\u001b[0m\u001b[0;34m\u001b[0m\u001b[0m\n",
      "\u001b[0;32m/Users/Shared/anaconda2/lib/python2.7/site-packages/pandas/core/frame.pyc\u001b[0m in \u001b[0;36m_set_item\u001b[0;34m(self, key, value)\u001b[0m\n\u001b[1;32m   3199\u001b[0m         \u001b[0;31m# value exception to occur first\u001b[0m\u001b[0;34m\u001b[0m\u001b[0;34m\u001b[0m\u001b[0m\n\u001b[1;32m   3200\u001b[0m         \u001b[0;32mif\u001b[0m \u001b[0mlen\u001b[0m\u001b[0;34m(\u001b[0m\u001b[0mself\u001b[0m\u001b[0;34m)\u001b[0m\u001b[0;34m:\u001b[0m\u001b[0;34m\u001b[0m\u001b[0m\n\u001b[0;32m-> 3201\u001b[0;31m             \u001b[0mself\u001b[0m\u001b[0;34m.\u001b[0m\u001b[0m_check_setitem_copy\u001b[0m\u001b[0;34m(\u001b[0m\u001b[0;34m)\u001b[0m\u001b[0;34m\u001b[0m\u001b[0m\n\u001b[0m\u001b[1;32m   3202\u001b[0m \u001b[0;34m\u001b[0m\u001b[0m\n\u001b[1;32m   3203\u001b[0m     \u001b[0;32mdef\u001b[0m \u001b[0minsert\u001b[0m\u001b[0;34m(\u001b[0m\u001b[0mself\u001b[0m\u001b[0;34m,\u001b[0m \u001b[0mloc\u001b[0m\u001b[0;34m,\u001b[0m \u001b[0mcolumn\u001b[0m\u001b[0;34m,\u001b[0m \u001b[0mvalue\u001b[0m\u001b[0;34m,\u001b[0m \u001b[0mallow_duplicates\u001b[0m\u001b[0;34m=\u001b[0m\u001b[0mFalse\u001b[0m\u001b[0;34m)\u001b[0m\u001b[0;34m:\u001b[0m\u001b[0;34m\u001b[0m\u001b[0m\n",
      "\u001b[0;32m/Users/Shared/anaconda2/lib/python2.7/site-packages/pandas/core/generic.pyc\u001b[0m in \u001b[0;36m_check_setitem_copy\u001b[0;34m(self, stacklevel, t, force)\u001b[0m\n\u001b[1;32m   2671\u001b[0m             \u001b[0;31m# the copy weakref\u001b[0m\u001b[0;34m\u001b[0m\u001b[0;34m\u001b[0m\u001b[0m\n\u001b[1;32m   2672\u001b[0m             \u001b[0;32mtry\u001b[0m\u001b[0;34m:\u001b[0m\u001b[0;34m\u001b[0m\u001b[0m\n\u001b[0;32m-> 2673\u001b[0;31m                 \u001b[0mgc\u001b[0m\u001b[0;34m.\u001b[0m\u001b[0mcollect\u001b[0m\u001b[0;34m(\u001b[0m\u001b[0;36m2\u001b[0m\u001b[0;34m)\u001b[0m\u001b[0;34m\u001b[0m\u001b[0m\n\u001b[0m\u001b[1;32m   2674\u001b[0m                 \u001b[0;32mif\u001b[0m \u001b[0;32mnot\u001b[0m \u001b[0mgc\u001b[0m\u001b[0;34m.\u001b[0m\u001b[0mget_referents\u001b[0m\u001b[0;34m(\u001b[0m\u001b[0mself\u001b[0m\u001b[0;34m.\u001b[0m\u001b[0m_is_copy\u001b[0m\u001b[0;34m(\u001b[0m\u001b[0;34m)\u001b[0m\u001b[0;34m)\u001b[0m\u001b[0;34m:\u001b[0m\u001b[0;34m\u001b[0m\u001b[0m\n\u001b[1;32m   2675\u001b[0m                     \u001b[0mself\u001b[0m\u001b[0;34m.\u001b[0m\u001b[0m_is_copy\u001b[0m \u001b[0;34m=\u001b[0m \u001b[0mNone\u001b[0m\u001b[0;34m\u001b[0m\u001b[0m\n",
      "\u001b[0;31mKeyboardInterrupt\u001b[0m: "
     ]
    }
   ],
   "source": [
    "import scipy as sp\n",
    "import warnings\n",
    "warnings.filterwarnings('ignore')\n",
    "import numpy as np\n",
    "import pandas as pd\n",
    "import pylab\n",
    "import os\n",
    "import matplotlib.pyplot as plt\n",
    "data = pd.read_csv('dating.csv')\n",
    "bins = [2, 5, 10, 50, 100, 200]\n",
    "#bins=[2,10]\n",
    "t_frac = 1\n",
    "def getdict(key,val):\n",
    "    dict_sub = {}\n",
    "    for j in range(len(key)):\n",
    "        dict_sub[key[j]] = float(val[j])/sum(val) \n",
    "    return dict_sub\n",
    "\n",
    "dict_final={}\n",
    "def getdictfinal_yes(df,list_col):\n",
    "    for i in list_col:\n",
    "        #print i\n",
    "        key =  df[i].value_counts().keys().tolist()\n",
    "        #print key\n",
    "        val = df[i].value_counts().tolist()\n",
    "        #print val\n",
    "        dict_sub = getdict(key,val)\n",
    "        dict_final[i]=dict_sub\n",
    "    return dict_final\n",
    "\n",
    "def getdict(key,val):\n",
    "    dict_sub = {}\n",
    "    for j in range(len(key)):\n",
    "        dict_sub[key[j]] = float(val[j])/sum(val) \n",
    "    return dict_sub\n",
    "\n",
    "dict_final1={}\n",
    "def getdictfinal_no(df1,list_col):\n",
    "    for i in list_col: \n",
    "        key1 =  df1[i].value_counts().keys().tolist()\n",
    "        #print key1\n",
    "        val1 = df1[i].value_counts().tolist()\n",
    "        #print val1\n",
    "        dict_sub = getdict(key1,val1)\n",
    "        dict_final1[i]=dict_sub\n",
    "    return dict_final1\n",
    "\n",
    "def nbc(t_frac,data):\n",
    "    train=data.sample(random_state=47,frac=t_frac)\n",
    "    train_yes = train[train['decision'] == 1] \n",
    "    train_no = train[train['decision'] == 0]\n",
    "    list_col =  list(data.columns)\n",
    "    list_col_full =  list(data.columns)\n",
    "    list_col.remove('decision')\n",
    "    dict_yes = getdictfinal_yes(train_yes,list_col)\n",
    "    dict_no = getdictfinal_no(train_no,list_col)\n",
    "    return dict_yes,dict_no\n",
    "dict_yes,dict_no = nbc(t_frac,data)\n",
    "\n",
    "def calc_conditional_prob(df,yes_or_no_prob,list_col):\n",
    "    df['new']=1\n",
    "    for i in list_col:\n",
    "        df['new'] = df['new'] * df[i]\n",
    "    df['new'] = df['new'] * yes_or_no_prob\n",
    "    return df['new']\n",
    "\n",
    "def getaccuracy(df,dict_yes,dict_no,list_col):\n",
    "    yes_prob = float((df.decision==1).sum())/((df.decision==1).sum()+(df.decision==0).sum())\n",
    "    no_prob = 1 -yes_prob\n",
    "    mod_yes = df[list_col]    \n",
    "    for i in list_col:\n",
    "        mod_yes[i] = mod_yes[i].map(dict_yes[i]) \n",
    "    \n",
    "    mod_no = df[list_col]\n",
    "    for i in list_col:\n",
    "        mod_no[i] = mod_no[i].map(dict_no[i])\n",
    "    df['conditionalyes'] = calc_conditional_prob(mod_yes,yes_prob,list_col)\n",
    "    df['conditionalno'] = calc_conditional_prob(mod_no,no_prob,list_col)\n",
    "    df['prediction'] = 0\n",
    "    df.loc[(df['conditionalyes'] >= df['conditionalno']), 'prediction'] = 1\n",
    "    df['accuracy'] = abs(df['decision']-df['prediction'])\n",
    "    accuracy =  round(float((df.accuracy==0).sum())/((df.accuracy==0).sum()+(df.accuracy==1).sum()),2)\n",
    "    return accuracy\n",
    "\n",
    "list_nobins = ['gender','race','race_o','samerace','field']\n",
    "list_col_part1=['attractive_important','sincere_important','intelligence_important',\\\n",
    "        'funny_important','ambition_important','shared_interests_important',\\\n",
    "        'pref_o_attractive','pref_o_sincere','pref_o_intelligence',\\\n",
    "        'pref_o_funny','pref_o_ambitious','pref_o_shared_interests']\n",
    "list_col_age=['age','age_o']\n",
    "list_Range_10 = ['importance_same_race','importance_same_religion','attractive', 'sincere',\\\n",
    "                 'intelligence', 'funny', 'ambition', 'attractive_partner', 'sincere_partner',\\\n",
    "                 'intelligence_parter', 'funny_partner', 'ambition_partner', \\\n",
    "                 'shared_interests_partner', 'sports', 'tvsports', 'exercise',\\\n",
    "                 'dining', 'museums', 'art', 'hiking', 'gaming', 'clubbing', 'reading',\\\n",
    "                 'tv', 'theater', 'movies', 'concerts', 'music', 'shopping', 'yoga',\\\n",
    "                 'expected_happy_with_sd_people', 'like']\n",
    "list_correlate = ['interests_correlate']\n",
    "minval_age=18\n",
    "maxval_age=58\n",
    "minval_part1=0\n",
    "maxval_part1=1\n",
    "minval_range10 =0\n",
    "maxval_Range10=10\n",
    "minval_correlate=-1\n",
    "maxval_correlate=1\n",
    "\n",
    "training_acc = []\n",
    "test_acc=[]\n",
    "for i in bins:\n",
    "    print \"Bin size:\",i\n",
    "    list_col =  list(data.columns.values)\n",
    "    list_col.remove('decision')\n",
    "    bin = data[list_col] \n",
    "    for j in list_col:\n",
    "        if j in list_nobins:\n",
    "            bin[j] =  bin[j]\n",
    "        elif j in list_col_part1:\n",
    "            bin[j] = pd.cut(bin[j], bins = \\\n",
    "                            np.linspace(minval_part1, maxval_part1, i+1),\\\n",
    "                            include_lowest=True,labels=range(i))\n",
    "        elif j in list_col_age:\n",
    "            bin[j] = pd.cut(bin[j],bins = np.linspace(minval_age, maxval_age, i+1)\\\n",
    "                            ,include_lowest=True,labels=range(i))\n",
    "        elif j in list_Range_10:\n",
    "            bin[j] = pd.cut(bin[j], bins = np.linspace(minval_range10, maxval_Range10, i+1)\\\n",
    "                            ,include_lowest=True,labels=range(i))\n",
    "        elif j in list_correlate:\n",
    "            bin[j] = pd.cut(bin[j], bins = np.linspace(minval_correlate, maxval_correlate, i+1)\\\n",
    "                              ,include_lowest=True,labels=range(i))\n",
    "        else:\n",
    "            bin[j] = pd.cut(bin[j], i, labels=range(i))\n",
    "    bin['decision'] = data['decision']\n",
    "    data_test = bin.sample(random_state=47,frac=0.2)\n",
    "    data_train = bin[~bin.index.isin(data_test.index)]\n",
    "    dict_yes,dict_no = nbc(t_frac,data_train)\n",
    "    f = dict_yes['field']\n",
    "    Train_accuracy= getaccuracy(data_train,dict_yes,dict_no,list_col)\n",
    "    print \"Training Accuracy:\", Train_accuracy\n",
    "    Test_accuracy= getaccuracy(data_test,dict_yes,dict_no,list_col)\n",
    "    print \"Test Accuracy:\", Test_accuracy\n",
    "    training_acc.append(Train_accuracy)\n",
    "    test_acc.append(Test_accuracy)"
   ]
  },
  {
   "cell_type": "code",
   "execution_count": 2,
   "metadata": {
    "scrolled": true
   },
   "outputs": [
    {
     "ename": "NameError",
     "evalue": "name 'bins' is not defined",
     "output_type": "error",
     "traceback": [
      "\u001b[0;31m---------------------------------------------------------------------------\u001b[0m",
      "\u001b[0;31mNameError\u001b[0m                                 Traceback (most recent call last)",
      "\u001b[0;32m<ipython-input-2-1a8ccde24095>\u001b[0m in \u001b[0;36m<module>\u001b[0;34m()\u001b[0m\n\u001b[0;32m----> 1\u001b[0;31m \u001b[0mx\u001b[0m \u001b[0;34m=\u001b[0m \u001b[0mbins\u001b[0m\u001b[0;34m\u001b[0m\u001b[0m\n\u001b[0m\u001b[1;32m      2\u001b[0m \u001b[0my\u001b[0m \u001b[0;34m=\u001b[0m \u001b[0mtest_acc\u001b[0m\u001b[0;34m\u001b[0m\u001b[0m\n\u001b[1;32m      3\u001b[0m \u001b[0my0\u001b[0m\u001b[0;34m=\u001b[0m \u001b[0mtraining_acc\u001b[0m\u001b[0;34m\u001b[0m\u001b[0m\n\u001b[1;32m      4\u001b[0m \u001b[0marea\u001b[0m \u001b[0;34m=\u001b[0m \u001b[0mnp\u001b[0m\u001b[0;34m.\u001b[0m\u001b[0mpi\u001b[0m\u001b[0;34m*\u001b[0m\u001b[0;36m10\u001b[0m\u001b[0;34m\u001b[0m\u001b[0m\n\u001b[1;32m      5\u001b[0m \u001b[0;31m#plt.scatter(x, y, s=area, c='g',alpha=0.5,label = \"Test\")\u001b[0m\u001b[0;34m\u001b[0m\u001b[0;34m\u001b[0m\u001b[0m\n",
      "\u001b[0;31mNameError\u001b[0m: name 'bins' is not defined"
     ]
    }
   ],
   "source": [
    "x = bins\n",
    "y = test_acc\n",
    "y0= training_acc\n",
    "area = np.pi*10\n",
    "#plt.scatter(x, y, s=area, c='g',alpha=0.5,label = \"Test\")\n",
    "#plt.scatter(x, y0, s=area, c='b',alpha=0.5,label = \"Train\")\n",
    "plt.scatter(x, y, label = 'Testing')\n",
    "plt.scatter(x, y0, label = 'Training')\n",
    "plt.title('Testing vs Training Data Accuracy',fontsize=24,color='purple')\n",
    "plt.xlabel('Number of Bins',fontsize=14,color='purple')\n",
    "plt.ylabel('Accuracy',fontsize=14,color='purple')\n",
    "plt.legend(loc='upper right')\n",
    "plt.savefig('Fig-5_2.png')\n",
    "#plt.show()\n",
    "plt.close()"
   ]
  },
  {
   "cell_type": "code",
   "execution_count": 2,
   "metadata": {},
   "outputs": [],
   "source": [
    "list_nobins = ['gender','race','race_o','samerace','field']\n",
    "list_col_part1=['attractive_important','sincere_important','intelligence_important',\\\n",
    "        'funny_important','ambition_important','shared_interests_important',\\\n",
    "        'pref_o_attractive','pref_o_sincere','pref_o_intelligence',\\\n",
    "        'pref_o_funny','pref_o_ambitious','pref_o_shared_interests']\n",
    "list_col_age=['age','age_o']\n",
    "list_Range_10 = ['importance_same_race','importance_same_religion','attractive', 'sincere',\\\n",
    "                 'intelligence', 'funny', 'ambition', 'attractive_partner', 'sincere_partner',\\\n",
    "                 'intelligence_parter', 'funny_partner', 'ambition_partner', \\\n",
    "                 'shared_interests_partner', 'sports', 'tvsports', 'exercise',\\\n",
    "                 'dining', 'museums', 'art', 'hiking', 'gaming', 'clubbing', 'reading',\\\n",
    "                 'tv', 'theater', 'movies', 'concerts', 'music', 'shopping', 'yoga',\\\n",
    "                 'expected_happy_with_sd_people', 'like']\n",
    "list_correlate = ['interests_correlate']\n",
    "minval_age=18\n",
    "maxval_age=58\n",
    "minval_part1=0\n",
    "maxval_part1=1\n",
    "minval_range10 =0\n",
    "maxval_Range10=10\n",
    "minval_correlate=-1\n",
    "maxval_correlate=1"
   ]
  },
  {
   "cell_type": "code",
   "execution_count": 11,
   "metadata": {},
   "outputs": [
    {
     "data": {
      "image/png": "[encoded data removed]",
      "text/plain": [
       "<Figure size 432x288 with 1 Axes>"
      ]
     },
     "metadata": {
      "needs_background": "light"
     },
     "output_type": "display_data"
    }
   ],
   "source": [
    "x = bins\n",
    "y = training_acc\n",
    "area = np.pi*10\n",
    "plt.scatter(x, y, s=area, c='g',alpha=0.5)\n",
    "plt.title('Training Data Accuracy',fontsize=24,color='purple')\n",
    "plt.xlabel('Number of Bins',fontsize=14,color='purple')\n",
    "plt.ylabel('Accuracy',fontsize=14,color='purple')\n",
    "plt.ylabel('Accuracy',fontsize=14,color='purple')\n",
    "#color = 'tab:blue'\n",
    "#ax2.set_ylabel('sin', color=color) \n",
    "plt.show()\n",
    "plt.savefig('Fig-5_2_Training.png')\n",
    "plt.close()"
   ]
  },
  {
   "cell_type": "code",
   "execution_count": 3,
   "metadata": {},
   "outputs": [
    {
     "name": "stdout",
     "output_type": "stream",
     "text": [
      "Bin size: 2\n",
      "Training Accuracy: 0.74\n",
      "Test Accuracy: 0.71\n",
      "Bin size: 5\n",
      "Training Accuracy: 0.76\n",
      "Test Accuracy: 0.74\n",
      "Bin size: 10\n",
      "Training Accuracy: 0.77\n",
      "Test Accuracy: 0.74\n",
      "Bin size: 50\n",
      "Training Accuracy: 0.78\n",
      "Test Accuracy: 0.74\n",
      "Bin size: 100\n",
      "Training Accuracy: 0.78\n",
      "Test Accuracy: 0.75\n",
      "Bin size: 200\n",
      "Training Accuracy: 0.79\n",
      "Test Accuracy: 0.74\n"
     ]
    }
   ],
   "source": [
    "training_acc = []\n",
    "test_acc=[]\n",
    "for i in bins:\n",
    "    print \"Bin size:\",i\n",
    "    list_col =  list(data.columns.values)\n",
    "    list_col.remove('decision')\n",
    "    bin = data[list_col] \n",
    "    for j in list_col:\n",
    "        if j in list_nobins:\n",
    "            bin[j] =  bin[j]\n",
    "        elif j in list_col_part1:\n",
    "            bin[j] = pd.cut(bin[j], bins = \\\n",
    "                            np.linspace(minval_part1, maxval_part1, i+1),\\\n",
    "                            include_lowest=True,labels=range(i))\n",
    "        elif j in list_col_age:\n",
    "            bin[j] = pd.cut(bin[j],bins = np.linspace(minval_age, maxval_age, i+1)\\\n",
    "                            ,include_lowest=True,labels=range(i))\n",
    "        elif j in list_Range_10:\n",
    "            bin[j] = pd.cut(bin[j], bins = np.linspace(minval_range10, maxval_Range10, i+1)\\\n",
    "                            ,include_lowest=True,labels=range(i))\n",
    "        elif j in list_correlate:\n",
    "            bin[j] = pd.cut(bin[j], bins = np.linspace(minval_correlate, maxval_correlate, i+1)\\\n",
    "                              ,include_lowest=True,labels=range(i))\n",
    "        else:\n",
    "            bin[j] = pd.cut(bin[j], i, labels=range(i))\n",
    "    bin['decision'] = data['decision']\n",
    "    data_test = bin.sample(random_state=47,frac=0.2)\n",
    "    data_train = bin[~bin.index.isin(data_test.index)]\n",
    "    dict_yes,dict_no = nbc(t_frac,data_train)\n",
    "    Train_accuracy= getaccuracy(data_train,dict_yes,dict_no,list_col)\n",
    "    print \"Training Accuracy:\", Train_accuracy\n",
    "    Test_accuracy= getaccuracy(data_test,dict_yes,dict_no,list_col)\n",
    "    print \"Test Accuracy:\", Test_accuracy\n",
    "    training_acc.append(Train_accuracy)\n",
    "    test_acc.append(Test_accuracy)"
   ]
  },
  {
   "cell_type": "code",
   "execution_count": 12,
   "metadata": {},
   "outputs": [
    {
     "data": {
      "text/plain": [
       "[<matplotlib.lines.Line2D at 0x1a19e7cad0>]"
      ]
     },
     "execution_count": 12,
     "metadata": {},
     "output_type": "execute_result"
    },
    {
     "data": {
      "image/png": "[encoded data removed]",
      "text/plain": [
       "<Figure size 432x288 with 2 Axes>"
      ]
     },
     "metadata": {
      "needs_background": "light"
     },
     "output_type": "display_data"
    }
   ],
   "source": [
    "import numpy as np\n",
    "import matplotlib.pyplot as plt\n",
    "\n",
    "x, y = np.random.random((2,50))\n",
    "fig, ax1 = plt.subplots()\n",
    "ax2 = ax1.twinx()\n",
    "ax1.scatter(x,y, c='b')\n",
    "x.sort()\n",
    "ax2.plot(x, np.sqrt(y)+y, c='r')"
   ]
  },
  {
   "cell_type": "code",
   "execution_count": 20,
   "metadata": {},
   "outputs": [
    {
     "data": {
      "image/png": "[encoded data removed]",
      "text/plain": [
       "<Figure size 432x288 with 1 Axes>"
      ]
     },
     "metadata": {
      "needs_background": "light"
     },
     "output_type": "display_data"
    }
   ],
   "source": [
    "import matplotlib.pyplot as plt\n",
    "import numpy as np\n",
    "#import plotly.tools as tls\n",
    "# Learn about API authentication here: https://plot.ly/python/getting-started\n",
    "# Find your api_key here: https://plot.ly/settings/api\n",
    "\n",
    "\n",
    "x = bins\n",
    "y0 = training_acc\n",
    "y = test_acc\n",
    "\n",
    "\n",
    "plt.title('Setting Axis Limits')\n",
    "#plt.step(x, y)\n",
    "plt.scatter(x, y, s=area, c='g',alpha=0.5)\n",
    "plt.scatter(x, y0, s=area, c='g',alpha=0.5)\n",
    "#y -= 0.5\n",
    "#plt.step(x, y)\n",
    "\n",
    "#y -= 0.5\n",
    "#plt.step(x, y)\n",
    "\n",
    "#plt.xlim(0, 7) \n",
    "#plt.ylim(-0.5, 4)\n",
    "\n",
    "plt.xlabel('X Axis limit is (0,7)')\n",
    "plt.ylabel('Y Axis limit is (-0.5,4)')\n",
    "\n",
    "mpl_fig = plt.gcf()\n",
    "plt.show()\n",
    "#plt.savefig('Fig-5_2_Test.png')\n",
    "plt.close()\n",
    "#plotly_fig = tls.mpl_to_plotly( mpl_fig )\n",
    "#plot_url = py.plot(plotly_fig)"
   ]
  },
  {
   "cell_type": "code",
   "execution_count": null,
   "metadata": {},
   "outputs": [],
   "source": []
  }
 ],
 "metadata": {
  "kernelspec": {
   "display_name": "Python 2",
   "language": "python",
   "name": "python2"
  },
  "language_info": {
   "codemirror_mode": {
    "name": "ipython",
    "version": 2
   },
   "file_extension": ".py",
   "mimetype": "text/x-python",
   "name": "python",
   "nbconvert_exporter": "python",
   "pygments_lexer": "ipython2",
   "version": "2.7.15"
  }
 },
 "nbformat": 4,
 "nbformat_minor": 2
}
