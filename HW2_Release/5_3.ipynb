{
 "cells": [
  {
   "cell_type": "code",
   "execution_count": 4,
   "metadata": {},
   "outputs": [
    {
     "name": "stdout",
     "output_type": "stream",
     "text": [
      "Fraction of training data: 0.01\n",
      "Training Accuracy: 0.58\n",
      "Test Accuracy: 0.58\n",
      "Fraction of training data: 0.1\n",
      "Training Accuracy: 0.68\n",
      "Test Accuracy: 0.68\n",
      "Fraction of training data: 0.2\n",
      "Training Accuracy: 0.71\n",
      "Test Accuracy: 0.7\n",
      "Fraction of training data: 0.5\n",
      "Training Accuracy: 0.75\n",
      "Test Accuracy: 0.73\n",
      "Fraction of training data: 0.6\n",
      "Training Accuracy: 0.75\n",
      "Test Accuracy: 0.73\n",
      "Fraction of training data: 0.75\n",
      "Training Accuracy: 0.75\n",
      "Test Accuracy: 0.74\n",
      "Fraction of training data: 0.9\n",
      "Training Accuracy: 0.76\n",
      "Test Accuracy: 0.74\n",
      "Fraction of training data: 1\n",
      "Training Accuracy: 0.76\n",
      "Test Accuracy: 0.74\n"
     ]
    }
   ],
   "source": [
    "import scipy as sp\n",
    "import warnings\n",
    "warnings.filterwarnings('ignore')\n",
    "import numpy as np\n",
    "import pandas as pd\n",
    "import os\n",
    "import pylab\n",
    "import matplotlib.pyplot as plt\n",
    "data = pd.read_csv('trainingSet.csv')\n",
    "data_test = pd.read_csv('testSet.csv')\n",
    "t_frac = 0\n",
    "F = [0.01, 0.1, 0.2, 0.5, 0.6, 0.75, 0.9, 1]\n",
    "def getdict(key,val):\n",
    "    dict_sub = {}\n",
    "    for j in range(len(key)):\n",
    "        dict_sub[key[j]] = float(val[j])/sum(val) \n",
    "    return dict_sub\n",
    "\n",
    "dict_final={}\n",
    "def getdictfinal_yes(df,list_col):\n",
    "    for i in list_col: \n",
    "        key =  df[i].value_counts().keys().tolist()\n",
    "        val = df[i].value_counts().tolist()\n",
    "        dict_sub = getdict(key,val)\n",
    "        dict_final[i]=dict_sub\n",
    "    return dict_final\n",
    "\n",
    "def getdict(key,val):\n",
    "    dict_sub = {}\n",
    "    for j in range(len(key)):\n",
    "        dict_sub[key[j]] = float(val[j])/sum(val) \n",
    "    return dict_sub\n",
    "\n",
    "dict_final1={}\n",
    "def getdictfinal_no(df1,list_col):\n",
    "    for i in list_col: \n",
    "        key1 =  df1[i].value_counts().keys().tolist()\n",
    "        val1 = df1[i].value_counts().tolist()\n",
    "        dict_sub = getdict(key1,val1)\n",
    "        dict_final1[i]=dict_sub\n",
    "    return dict_final1\n",
    "\n",
    "def nbc(t_frac,data):\n",
    "    train=data.sample(random_state=47,frac=t_frac)\n",
    "    train_yes = train[train['decision'] == 1] \n",
    "    train_no = train[train['decision'] == 0]\n",
    "    list_col =  list(data.columns)\n",
    "    list_col_full =  list(data.columns)\n",
    "    list_col.remove('decision')\n",
    "    dict_yes = getdictfinal_yes(train_yes,list_col)\n",
    "    dict_no = getdictfinal_no(train_no,list_col)\n",
    "    return dict_yes,dict_no\n",
    "dict_yes,dict_no = nbc(t_frac,data)\n",
    "\n",
    "def calc_conditional_prob(df,yes_or_no_prob,list_col):\n",
    "    df['new']=1\n",
    "    for i in list_col:\n",
    "        df['new'] = df['new'] * df[i]\n",
    "    df['new'] = df['new'] * yes_or_no_prob\n",
    "    return df['new']\n",
    "\n",
    "def getaccuracy(df,dict_yes,dict_no,list_col):\n",
    "    yes_prob = float((df.decision==1).sum())/((df.decision==1).sum()+(df.decision==0).sum())\n",
    "    no_prob = 1 -yes_prob\n",
    "    mod_yes = df[list_col]    \n",
    "    for i in list_col:\n",
    "        mod_yes[i] = mod_yes[i].map(dict_yes[i]) \n",
    "    \n",
    "    mod_no = df[list_col]\n",
    "    for i in list_col:\n",
    "        mod_no[i] = mod_no[i].map(dict_no[i])\n",
    "    df['conditionalyes'] = calc_conditional_prob(mod_yes,yes_prob,list_col)\n",
    "    df['conditionalno'] = calc_conditional_prob(mod_no,no_prob,list_col)\n",
    "    df['prediction'] = 0\n",
    "    df.loc[(df['conditionalyes'] >= df['conditionalno']), 'prediction'] = 1\n",
    "    df['accuracy'] = abs(df['decision']-df['prediction'])\n",
    "    accuracy =  round(float((df.accuracy==0).sum())/((df.accuracy==0).sum()+(df.accuracy==1).sum()),2)\n",
    "    return accuracy\n",
    "training_acc = []\n",
    "test_acc=[]\n",
    "for i in F:\n",
    "    print \"Fraction of training data:\",i\n",
    "    list_col =  list(data.columns.values)\n",
    "    data_train = data[list_col]\n",
    "    list_col.remove('decision')    \n",
    "    dict_yes,dict_no = nbc(i,data_train)\n",
    "    Train_accuracy= getaccuracy(data_train,dict_yes,dict_no,list_col)\n",
    "    print \"Training Accuracy:\", Train_accuracy\n",
    "    Test_accuracy= getaccuracy(data_test,dict_yes,dict_no,list_col)\n",
    "    print \"Test Accuracy:\", Test_accuracy\n",
    "    training_acc.append(Train_accuracy)\n",
    "    test_acc.append(Test_accuracy)"
   ]
  },
  {
   "cell_type": "code",
   "execution_count": 8,
   "metadata": {},
   "outputs": [
    {
     "data": {
      "image/png": "[encoded data removed]",
      "text/plain": [
       "<Figure size 432x288 with 1 Axes>"
      ]
     },
     "metadata": {
      "needs_background": "light"
     },
     "output_type": "display_data"
    }
   ],
   "source": [
    "x = F\n",
    "y0 = training_acc\n",
    "y =  test_acc\n",
    "area = np.pi*10\n",
    "plt.scatter(x, y, label = 'Testing')\n",
    "plt.scatter(x, y0, label = 'Training')\n",
    "plt.title('Testing vs Training Data Accuracy',fontsize=24,color='purple')\n",
    "plt.xlabel('Fraction of Training data',fontsize=14,color='purple')\n",
    "plt.ylabel('Accuracy',fontsize=14,color='purple')\n",
    "plt.legend(loc='lower right')\n",
    "plt.savefig('Fig-5_3.png')\n",
    "#plt.show()\n",
    "plt.close()"
   ]
  },
  {
   "cell_type": "code",
   "execution_count": null,
   "metadata": {},
   "outputs": [],
   "source": []
  }
 ],
 "metadata": {
  "kernelspec": {
   "display_name": "Python 2",
   "language": "python",
   "name": "python2"
  },
  "language_info": {
   "codemirror_mode": {
    "name": "ipython",
    "version": 2
   },
   "file_extension": ".py",
   "mimetype": "text/x-python",
   "name": "python",
   "nbconvert_exporter": "python",
   "pygments_lexer": "ipython2",
   "version": "2.7.15"
  }
 },
 "nbformat": 4,
 "nbformat_minor": 2
}
