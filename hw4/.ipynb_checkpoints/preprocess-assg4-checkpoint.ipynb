{
 "cells": [
  {
   "cell_type": "code",
   "execution_count": 80,
   "metadata": {},
   "outputs": [],
   "source": [
    "import warnings\n",
    "warnings.filterwarnings('ignore')\n",
    "import numpy as np\n",
    "import pandas as pd\n",
    "import sys\n",
    "import os\n",
    "data = pd.read_csv('dating-full.csv',nrows = 6500)\n",
    "\n",
    "df = data;\n",
    "\n",
    "df.drop(\"race\",axis=1, inplace=True)\n",
    "df.drop(\"race_o\",axis=1, inplace=True)\n",
    "df.drop(\"field\",axis=1, inplace=True)\n",
    "#df will have 6500 rows and 50 cols\n"
   ]
  },
  {
   "cell_type": "code",
   "execution_count": 82,
   "metadata": {},
   "outputs": [],
   "source": [
    "t1 = df[['gender']]\n",
    "A = pd.DataFrame(np.sort(t1['gender'].unique()),columns=['gender'])\n",
    "A['gender_enum'] = range(len(t1['gender'].unique()))\n",
    "t1 = t1.merge(A, on= 'gender', how= 'left')\n",
    "#df has its 3 clumns dropped and gender values encoded\n",
    "df['gender'] = t1['gender_enum']\n"
   ]
  },
  {
   "cell_type": "code",
   "execution_count": 83,
   "metadata": {},
   "outputs": [],
   "source": [
    "modcol = ['attractive_important','sincere_important','intelligence_important',\\\n",
    "            'funny_important','ambition_important','shared_interests_important',\\\n",
    "            'pref_o_attractive','pref_o_sincere','pref_o_intelligence',\\\n",
    "            'pref_o_funny','pref_o_ambitious','pref_o_shared_interests']\n",
    "\n",
    "t3=df[modcol]\n",
    "type1_list = ['attractive_important','sincere_important','intelligence_important',\\\n",
    "        'funny_important','ambition_important','shared_interests_important']\n",
    "type2_list = ['pref_o_attractive','pref_o_sincere','pref_o_intelligence',\\\n",
    "            'pref_o_funny','pref_o_ambitious','pref_o_shared_interests']\n",
    "t3['total'] = \\\n",
    "        t3[type1_list].sum(axis=1)\n",
    "for i in type1_list:            \n",
    "    t3[i+\"_new\"] = t3[i].div(t3.total,axis=\"index\")\n",
    "t3['total1'] = \\\n",
    "        t3[type2_list].sum(axis=1)\n",
    "for i in type2_list:\n",
    "    t3[i+\"_new\"] = t3[i].div(t3.total1,axis=\"index\")\n",
    "# In[ ]:\n",
    "for i in modcol:\n",
    "    df[i] = t3[i+\"_new\"]"
   ]
  },
  {
   "cell_type": "code",
   "execution_count": 112,
   "metadata": {},
   "outputs": [],
   "source": [
    "#continuousvaluedcols: All except[gender, race, race o, samerace, field, decision]\n",
    "labels = range(2)\n",
    "list_col =  list(df.columns.values)\n",
    "list_col_full = list(df.columns.values)\n",
    "list_nobins = ['gender','samerace','decision']\n",
    "print_list = list_col_full\n",
    "for i in ['gender','samerace','decision']:\n",
    "    list_col.remove(i)\n",
    "list_col_part1=[modcol]\n",
    "list_col_age=['age','age_o']\n",
    "list_Range_10 = ['importance_same_race','importance_same_religion','attractive', 'sincere',\\\n",
    "                 'intelligence', 'funny', 'ambition', 'attractive_partner', 'sincere_partner',\\\n",
    "                 'intelligence_parter', 'funny_partner', 'ambition_partner', \\\n",
    "                 'shared_interests_partner', 'sports', 'tvsports', 'exercise',\\\n",
    "                 'dining', 'museums', 'art', 'hiking', 'gaming', 'clubbing', 'reading',\\\n",
    "                 'tv', 'theater', 'movies', 'concerts', 'music', 'shopping', 'yoga',\\\n",
    "                 'expected_happy_with_sd_people', 'like']\n",
    "list_correlate = ['interests_correlate']\n",
    "minval_age=18\n",
    "maxval_age=58\n",
    "minval_part1=0\n",
    "maxval_part1=1\n",
    "minval_range10 =0\n",
    "maxval_Range10=10\n",
    "minval_correlate=-1\n",
    "maxval_correlate=1\n",
    "t4 = df[list_col_full] \n",
    "for i in list_col_full:\n",
    "    if i in list_nobins:\n",
    "        t4[i+\"_bin\"] =  t4[i]\n",
    "    elif i in list_col_part1:\n",
    "        t4[i+\"_bin\"] = pd.cut(t4[i], bins = 2,labels=labels)\n",
    "    elif i in list_col_age:\n",
    "        t4[i+\"_bin\"] = pd.cut(t4[i],bins = 2,labels=labels)\n",
    "    elif i in list_Range_10:\n",
    "        t4[i+\"_bin\"] = pd.cut(t4[i], bins = 2,labels=labels)\n",
    "    elif i in list_correlate:\n",
    "        t4[i+\"_bin\"] = pd.cut(t4[i], bins = 2,labels=labels)\n",
    "    else:\n",
    "        t4[i+\"_bin\"] = pd.cut(t4[i], bins = 2, labels=labels)  \n",
    "for i in list_col:\n",
    "    df[i] = t4[i+\"_bin\"]\n",
    "#for i in list_col:    \n",
    "#    df1 = df[i].value_counts()\n",
    " #   print i,\":\", df1.values.tolist()"
   ]
  },
  {
   "cell_type": "code",
   "execution_count": 113,
   "metadata": {},
   "outputs": [],
   "source": [
    "data_test = df.sample(random_state=47,frac=0.2)\n",
    "data_test.to_csv('testSet.csv',index = False)\n",
    "data_train = df[~df.index.isin(data_test.index)]\n",
    "data_train.to_csv('trainingSet.csv',index = False)"
   ]
  },
  {
   "cell_type": "code",
   "execution_count": 109,
   "metadata": {},
   "outputs": [],
   "source": [
    "#print df['attractive_important']\n",
    "p=t4\n",
    "p['age_bin'] =  pd.cut(t4['age'],bins = 2,labels =[0,1])\n",
    "#print p[p['age_bin']==1]['age_bin']"
   ]
  },
  {
   "cell_type": "code",
   "execution_count": null,
   "metadata": {},
   "outputs": [],
   "source": []
  }
 ],
 "metadata": {
  "kernelspec": {
   "display_name": "Python 2",
   "language": "python",
   "name": "python2"
  },
  "language_info": {
   "codemirror_mode": {
    "name": "ipython",
    "version": 2
   },
   "file_extension": ".py",
   "mimetype": "text/x-python",
   "name": "python",
   "nbconvert_exporter": "python",
   "pygments_lexer": "ipython2",
   "version": "2.7.15"
  }
 },
 "nbformat": 4,
 "nbformat_minor": 2
}
