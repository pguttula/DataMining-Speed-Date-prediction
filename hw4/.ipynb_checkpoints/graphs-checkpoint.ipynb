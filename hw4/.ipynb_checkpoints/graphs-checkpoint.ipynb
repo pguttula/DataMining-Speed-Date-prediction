{
 "cells": [
  {
   "cell_type": "code",
   "execution_count": 11,
   "metadata": {},
   "outputs": [
    {
     "data": {
      "image/png": "[encoded data removed]",
      "text/plain": [
       "<Figure size 432x288 with 1 Axes>"
      ]
     },
     "metadata": {
      "needs_background": "light"
     },
     "output_type": "display_data"
    }
   ],
   "source": [
    "import matplotlib.pyplot as plt\n",
    "import numpy as np\n",
    "#t_fracset = [0.2,0.15,0.075,0.1,0.05]\n",
    "t_fracset = [0.05,0.075,0.1,0.15,0.2]\n",
    "accuracy_DT = [0.7,0.7,0.71,0.71,0.71]\n",
    "standard_error_DT = [0.005, 0.009, 0.005, 0.008, 0.01]\n",
    "accuracy_BT = [0.7,0.72,0.72,0.73,0.73]\n",
    "standard_error_BT = [0.005, 0.005, 0.005, 0.006, 0.008]\n",
    "accuracy_RF = [0.71,0.72,0.73,0.73,0.73]\n",
    "standard_error_RF = [0.007, 0.006, 0.008, 0.005, 0.007]\n",
    "x = np.array([t_fracset])\n",
    "y1 = np.array([accuracy_DT])\n",
    "y2 =np.array([accuracy_BT])\n",
    "y3 = np.array([accuracy_RF])\n",
    "e1 = np.array([standard_error_DT])\n",
    "e2 = np.array([standard_error_BT])\n",
    "e3 = np.array([standard_error_RF])\n",
    "e1 = 0.25*(e1);\n",
    "e2 = 0.25*(e2);\n",
    "e3 = 0.25*(e3);\n",
    "plt.errorbar(x, y1, e1, marker='o',label='DT')\n",
    "plt.errorbar(x, y2, e2, marker='o',label='BT')\n",
    "plt.errorbar(x, y3, e3, marker='o',label = 'RF')\n",
    "\n",
    "plt.title('Training data vs Accuracies for DT,BT& RF',fontsize=24,color='purple')\n",
    "plt.xlabel('Fraction of Training Data',fontsize=14,color='purple')\n",
    "plt.ylabel('Accuracy of Model',fontsize=14,color='purple')\n",
    "plt.legend()\n",
    "#plt.tight_layout()\n",
    "plt.savefig('Fig-3_1.png', dpi=100)\n",
    "plt.show()\n"
   ]
  },
  {
   "cell_type": "code",
   "execution_count": 12,
   "metadata": {},
   "outputs": [],
   "source": [
    "#two tailed paired t test- fractions\n",
    "import scipy as sp\n",
    "from scipy import stats\n",
    "import warnings\n",
    "warnings.filterwarnings('ignore')\n",
    "import numpy as np\n",
    "import pandas as pd\n",
    "import sys\n",
    "import os\n",
    "import time\n",
    "\n",
    "means_DT = np.array([0.7,0.7,0.71,0.71,0.71])\n",
    "means_BT = np.array([0.7,0.72,0.72,0.73,0.73])\n",
    "\n",
    "stats.ttest_rel(means_DT,means_BT)"
   ]
  },
  {
   "cell_type": "code",
   "execution_count": null,
   "metadata": {},
   "outputs": [],
   "source": [
    "import matplotlib.pyplot as plt\n",
    "import numpy as np\n",
    "\n",
    "depth = [3,5,7,9]\n",
    "accuracy_DT = [0.74,0.73,0.72,0.71]\n",
    "standard_error_DT = [0.005, 0.009, 0.005, 0.008, 0.01]\n",
    "accuracy_BT = [0.7,0.72,0.72,0.73,0.73]\n",
    "standard_error_BT = [0.005, 0.005, 0.005, 0.006, 0.008]\n",
    "accuracy_RF = [0.71,0.72,0.73,0.73,0.73]\n",
    "standard_error_RF = [0.007, 0.006, 0.008, 0.005, 0.007]\n",
    "x = np.array([t_fracset])\n",
    "y1 = np.array([accuracy_DT])\n",
    "y2 =np.array([accuracy_BT])\n",
    "y3 = np.array([accuracy_RF])\n",
    "e1 = np.array([standard_error_DT])\n",
    "e2 = np.array([standard_error_BT])\n",
    "e3 = np.array([standard_error_RF])\n",
    "e1 = 0.25*(e1);\n",
    "e2 = 0.25*(e2);\n",
    "e3 = 0.25*(e3);\n",
    "plt.errorbar(x, y1, e1, marker='o',label='DT')\n",
    "plt.errorbar(x, y2, e2, marker='o',label='BT')\n",
    "plt.errorbar(x, y3, e3, marker='o',label = 'RF')\n",
    "\n",
    "plt.title('Training data vs Accuracies for DT,BT& RF',fontsize=24,color='purple')\n",
    "plt.xlabel('Fraction of Training Data',fontsize=14,color='purple')\n",
    "plt.ylabel('Accuracy of Model',fontsize=14,color='purple')\n",
    "plt.legend()\n",
    "#plt.tight_layout()\n",
    "plt.savefig('Fig-3_1.png', dpi=100)\n",
    "plt.show()"
   ]
  },
  {
   "cell_type": "code",
   "execution_count": null,
   "metadata": {},
   "outputs": [],
   "source": [
    "#two tailed paired t test- fractions\n",
    "import scipy as sp\n",
    "from scipy import stats\n",
    "import warnings\n",
    "warnings.filterwarnings('ignore')\n",
    "import numpy as np\n",
    "import pandas as pd\n",
    "import sys\n",
    "import os\n",
    "import time\n",
    "\n",
    "means_DT = np.array([0.7,0.7,0.71,0.71,0.71])\n",
    "means_BT = np.array([0.7,0.72,0.72,0.73,0.73])\n",
    "\n",
    "stats.ttest_rel(means_DT,means_BT)"
   ]
  },
  {
   "cell_type": "code",
   "execution_count": null,
   "metadata": {},
   "outputs": [],
   "source": [
    "import matplotlib.pyplot as plt\n",
    "import numpy as np\n",
    "#t_fracset = [0.2,0.15,0.075,0.1,0.05]\n",
    "t_fracset = [0.05,0.075,0.1,0.15,0.2]\n",
    "accuracy_DT = [0.7,0.7,0.71,0.71,0.71]\n",
    "standard_error_DT = [0.005, 0.009, 0.005, 0.008, 0.01]\n",
    "accuracy_BT = [0.7,0.72,0.72,0.73,0.73]\n",
    "standard_error_BT = [0.005, 0.005, 0.005, 0.006, 0.008]\n",
    "accuracy_RF = [0.71,0.72,0.73,0.73,0.73]\n",
    "standard_error_RF = [0.007, 0.006, 0.008, 0.005, 0.007]\n",
    "x = np.array([t_fracset])\n",
    "y1 = np.array([accuracy_DT])\n",
    "y2 =np.array([accuracy_BT])\n",
    "y3 = np.array([accuracy_RF])\n",
    "e1 = np.array([standard_error_DT])\n",
    "e2 = np.array([standard_error_BT])\n",
    "e3 = np.array([standard_error_RF])\n",
    "e1 = 0.25*(e1);\n",
    "e2 = 0.25*(e2);\n",
    "e3 = 0.25*(e3);\n",
    "plt.errorbar(x, y1, e1, marker='o',label='DT')\n",
    "plt.errorbar(x, y2, e2, marker='o',label='BT')\n",
    "plt.errorbar(x, y3, e3, marker='o',label = 'RF')\n",
    "\n",
    "plt.title('Training data vs Accuracies for DT,BT& RF',fontsize=24,color='purple')\n",
    "plt.xlabel('Fraction of Training Data',fontsize=14,color='purple')\n",
    "plt.ylabel('Accuracy of Model',fontsize=14,color='purple')\n",
    "plt.legend()\n",
    "#plt.tight_layout()\n",
    "plt.savefig('Fig-3_1.png', dpi=100)\n",
    "plt.show()"
   ]
  },
  {
   "cell_type": "code",
   "execution_count": 16,
   "metadata": {},
   "outputs": [],
   "source": [
    "#two tailed paired t test- fractions\n",
    "import scipy as sp\n",
    "from scipy import stats\n",
    "import warnings\n",
    "warnings.filterwarnings('ignore')\n",
    "import numpy as np\n",
    "import pandas as pd\n",
    "import sys\n",
    "import os\n",
    "import time\n",
    "\n",
    "means_DT = np.array([0.7,0.7,0.71,0.71,0.71])\n",
    "means_BT = np.array([0.7,0.72,0.72,0.73,0.73])\n",
    "\n",
    "stats.ttest_rel(means_DT,means_BT)"
   ]
  },
  {
   "cell_type": "code",
   "execution_count": 17,
   "metadata": {},
   "outputs": [],
   "source": [
    "a={}\n",
    "a[3] = 0.7\n",
    "a[4] = 0.6\n",
    "print a"
   ]
  },
  {
   "cell_type": "code",
   "execution_count": null,
   "metadata": {},
   "outputs": [],
   "source": []
  }
 ],
 "metadata": {
  "kernelspec": {
   "display_name": "Python 2",
   "language": "python",
   "name": "python2"
  },
  "language_info": {
   "codemirror_mode": {
    "name": "ipython",
    "version": 2
   },
   "file_extension": ".py",
   "mimetype": "text/x-python",
   "name": "python",
   "nbconvert_exporter": "python",
   "pygments_lexer": "ipython2",
   "version": "2.7.15"
  }
 },
 "nbformat": 4,
 "nbformat_minor": 2
}
