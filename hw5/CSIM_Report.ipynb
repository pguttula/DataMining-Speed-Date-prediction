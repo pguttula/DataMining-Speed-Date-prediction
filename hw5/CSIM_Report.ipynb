{
 "cells": [
  {
   "cell_type": "markdown",
   "metadata": {},
   "source": [
    "### Problem 1"
   ]
  },
  {
   "cell_type": "markdown",
   "metadata": {},
   "source": [
    "In Problem 1, we are asked to simulate production and delivery process of a company WIDGET XYZ, INC. \n",
    "Problem Description: \n",
    "The company maufactures widgets at a uniform time of 80 plus or minus 20 seconds and places them in the stock. We will have customers coming to the company at an exponential interarrival time of 300 secs and placing orders with a distirbution of 0.1 for 4 widgets, 0.4 for 5, 0.3 for 6 and 0.2 for 7 widgets. \n",
    "\n",
    "As soon as the customer comes and places an order, if we have the corresponding number of widgets(order placed) we will give the widgets away and send the customer off or else we will wait for the orders to be manufactured and then send it for packing. One other thing we handle here is that, the company cannot have more than 10 order backlogs. So, if we have a bcklog of more than 10 orders, we will lose those orders to another firm WANTMORE,INC.\n",
    "\n",
    "Once we have the widgets at packing, we take 90 + 50 ∗ n seconds to pack, where n = number of widgets in the order. We consider this order complete once the packing is done and send the customer off. Also, we maintain FIFO while retrieving widgets from stock to send it to packing.\n",
    "\n",
    "Model Choices:\n",
    "* I maintain 3 process classes- one for simulation,one for orders and one for production.\n",
    "* Initialized a facility called packer to handle the packing services.\n",
    "* To manage the widgets in stock, I used buffer.\n",
    "* Breif description of the 3 processes mentioned above:\n",
    "    Simulation - For the given amount of simulation time ( I considered 8 hours i.e., 28800 seconds of simulation time), sim thread manages to generate customers at an exponential interarrival time of 300 secs and to generate production of widgets based on whicever threads yields for the access.\n",
    "     Orders -  The process checks for the backlog order count through buffer. If buffer>= 10, we increment the lost customer count else I first create an order of size n widgets based on the given probability. The order either stays in the buffer waiting for the widgets or goes to packing directly. I hold the packing facility for the above mentioned time and release the packing facility/machine.\n",
    "      Production - This process takes care of generating/manufacturing widgets at a uniform rate of (60,100) seconds and placed in the buffer. \n",
    "Assumptions: \n",
    "1) Buffer size = 100 i.e., Maximum number of widgets allowed in stock is 100.\n",
    "2) Total Simulation = 8 hours"
   ]
  },
  {
   "cell_type": "markdown",
   "metadata": {},
   "source": [
    "Result:\n",
    "1) Number of orders lost to wantmore, inc: 20\n",
    "2) Utilization of packing machine: 0.810 \n",
    "3) Average number of orders (from customers) waiting to be satisfied: 7.42802\n",
    "4) Average number of orders waiting at the packing machine: 0.83461\n",
    "   Average waiting time at the packing machine:\n",
    "Please find below the above answers highlighted in the screen print of output of q1.c:"
   ]
  },
  {
   "cell_type": "markdown",
   "metadata": {},
   "source": [
    "### Problem 2"
   ]
  },
  {
   "cell_type": "markdown",
   "metadata": {},
   "source": [
    "In Problem 2, We simulate traffic lights to manage two way traffic in directions A to B and B to A.  \n",
    "\n",
    "Problem Description: \n",
    "We have cars coming in A to B direction at poisson rate of 400 cars/hour i.e., cars arrive with an inter-arrival time of 9 sec and cars arriving with an arrival rate of 300 cars/hour  i.e, inter-arrival time of 12 sec in B to A direction.\n",
    "\n",
    "Traffic lights work as follows:\n",
    "* They have say, 4 states - state 0 - both the lights(light in AB direction and light in BA direction) are red, state 1- light AB is green and light BA is red,state 2- both the lights are red ,state 3- light BA is green and light AB is red. Traffic lightes go from 0->1->2->3->0->1->2->3...\n",
    "* We are given that red states 0,2 would last 55 secs and we are to find an optimal times for states 1 and 2 i.e., GREENAB and GREENBA respectively.\n",
    "\n",
    "Model Choices:\n",
    "* I have two facilities to handle cars in AB direction and BA direction\n",
    "* I have 5 process classes in total - one to generate cars in AB direction at an inter arrival time of 9 sec , one to generate cars in BA direction at an inter arrival time of 12 sec, one to handle cars/traffic in AB direction, one to handle cars/traffic in BA direction and lastly to handle traffic lights/light states.\n",
    "* I also have two events a2b green and b2a green to handle the green lights in both the directions. We capture the delay statistics as well using these events help.\n",
    "* I also have the main simulation thread calling the above 5 process mentioned and yield access to whichever thread that requests access.\n",
    "* Breif description of the 5 processes mentioned above:\n",
    "    1) I have cars being generated constantly at an inter-arrival time of 9 sec in AB direction.\n",
    "    2) I have cars being generated constantly at an inter-arrival time of 12 sec in BA direction.\n",
    "    3) Traffic lights switch between states 0,1,2,3. In each state we hold it for the stated time(For example, if red 55 secs, if greenAB 40 sec ) and take necessary steps to be ready for the next state.\n",
    "    4) I handle traffic in AB direction as follows- if I am in red state or if there is a car ahead of the current car, I will hold for 2 sec and continue to move ahead in AB direction or just directly move forward.\n",
    "    5) Similar to step 4 above, I have the same functionality to handle cars in the other direction.\n",
    "\n",
    "Assumptions:\n",
    "1) Total Simulation time =  1hr(3600 secs)\n",
    "2) I compared and matched my values with the GPSS code. However, the poisson values in GPSS code and handout are reversed. So I followed my code as per GPSS code and not handout. My results matched with GPSS code and my rest of the observations would as well be based on this crucial assumption.\n",
    "\n",
    "Result:\n",
    "My code outputs the below delay with the given green light timings provided by professor in gpss.pdf handout:\n",
    "* Green AB = 60, GREEN BA = 45 , A->B delay = 75 ,B->A delay = 80\n",
    "* Green AB = 80, GREEN BA = 60 , A->B delay = 70 ,B->A delay = 80\n",
    "* Green AB = 40, GREEN BA = 30 , A->B delay = 103 ,B->A delay = 123\n",
    "\n",
    "Optimal delays:\n",
    "I tried randomly with different settings and I observed that with Green AB = 80, GREEN BA = 60 I get the best delays: A->B delay = 70 ,B->A delay = 80. Otherwise with an increase in GREENAB , results in increase of BA delay and an increase in GREENBA, results in an increase of AB delay.\n",
    "\n",
    "\n",
    "Please find below the above answers highlighted in the screen print of output of q2.c:"
   ]
  }
 ],
 "metadata": {
  "kernelspec": {
   "display_name": "Python 2",
   "language": "python",
   "name": "python2"
  },
  "language_info": {
   "codemirror_mode": {
    "name": "ipython",
    "version": 2
   },
   "file_extension": ".py",
   "mimetype": "text/x-python",
   "name": "python",
   "nbconvert_exporter": "python",
   "pygments_lexer": "ipython2",
   "version": "2.7.15"
  }
 },
 "nbformat": 4,
 "nbformat_minor": 2
}
