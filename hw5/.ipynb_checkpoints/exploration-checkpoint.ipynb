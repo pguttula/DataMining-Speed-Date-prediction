{
 "cells": [
  {
   "cell_type": "code",
   "execution_count": 155,
   "metadata": {},
   "outputs": [],
   "source": [
    "import warnings\n",
    "warnings.filterwarnings('ignore')\n",
    "import numpy as np\n",
    "import pandas as pd\n",
    "import sys\n",
    "import os\n",
    "import random\n",
    "import matplotlib.pyplot as plt\n",
    "np.random.seed(0)\n",
    "#embed = pd.read_csv('digits-embedding.csv',header=None)\n",
    "from PIL import Image\n",
    "data = pd.read_csv('digits-raw.csv',header=None)\n",
    "colors = ['aquamarine', 'g', 'r', 'coral', 'm', 'khaki', 'turquoise', 'navy', 'yellowgreen', 'pink']\n",
    "embed = pd.read_csv('digits-embedding.csv', header=None, names=['id', 'label', 'X', 'Y'])\n",
    "grouped = data.groupby(data.iloc[:,1])\n",
    "df = grouped.apply(lambda data: data.sample(n=1, replace=True))\n"
   ]
  },
  {
   "cell_type": "code",
   "execution_count": 157,
   "metadata": {},
   "outputs": [
    {
     "data": {
      "image/png": "[encoded data removed]",
      "text/plain": [
       "<Figure size 432x288 with 1 Axes>"
      ]
     },
     "metadata": {
      "needs_background": "light"
     },
     "output_type": "display_data"
    }
   ],
   "source": [
    "def show_digit(df,i):\n",
    "    x = np.array(df.iloc[i,2:])\n",
    "    im = x.reshape(28, 28)\n",
    "    plt.gray()\n",
    "    plt.imshow(im)\n",
    "    plt.savefig('Fig-'+str(i)+'.png', dpi=100)\n",
    "for i in range(10):\n",
    "    show_digit(df,i)"
   ]
  },
  {
   "cell_type": "code",
   "execution_count": 162,
   "metadata": {},
   "outputs": [],
   "source": [
    "colors = ['aquamarine', 'g', 'r', 'coral', 'm', 'khaki', 'turquoise', 'navy', 'yellowgreen', 'pink']\n",
    "embed = pd.read_csv('digits-embedding.csv', header=None, names=['id', 'label', 'X', 'Y'])\n",
    "\n",
    "def visualizeFeatures(data):\n",
    "    examples = np.random.randint(0, len(data), size=1000)\n",
    "    Examples = data.iloc[examples]\n",
    "    numLabels = len(data['label'].unique())\n",
    "    Examples = Examples.groupby('label')\n",
    "    fig, ax = plt.subplots()\n",
    "    for i in range(numLabels):\n",
    "        X = Examples.get_group(i).X\n",
    "        Y = Examples.get_group(i).Y\n",
    "        ax.scatter(X, Y, s = 20,c=colors[i], label=i)\n",
    "    ax.legend()\n",
    "    plt.xlabel(\"image-embedding feature_1\",fontsize=12,color='purple')\n",
    "    plt.ylabel(\"image-embedding feature_2\",fontsize=12,color='purple')\n",
    "    plt.savefig('Fig-cluster.png', dpi=80)\n",
    "    plt.close()\n",
    "visualizeFeatures(embed)"
   ]
  },
  {
   "cell_type": "code",
   "execution_count": null,
   "metadata": {},
   "outputs": [],
   "source": []
  }
 ],
 "metadata": {
  "kernelspec": {
   "display_name": "Python 2",
   "language": "python",
   "name": "python2"
  },
  "language_info": {
   "codemirror_mode": {
    "name": "ipython",
    "version": 2
   },
   "file_extension": ".py",
   "mimetype": "text/x-python",
   "name": "python",
   "nbconvert_exporter": "python",
   "pygments_lexer": "ipython2",
   "version": "2.7.15"
  }
 },
 "nbformat": 4,
 "nbformat_minor": 2
}
