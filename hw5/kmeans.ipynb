{
 "cells": [
  {
   "cell_type": "code",
   "execution_count": 60,
   "metadata": {},
   "outputs": [],
   "source": [
    "import warnings\n",
    "warnings.filterwarnings('ignore')\n",
    "import numpy as np\n",
    "from scipy.spatial import distance\n",
    "import pandas as pd\n",
    "import sys\n",
    "import os\n",
    "import random\n",
    "import time\n",
    "import copy\n",
    "import matplotlib.pyplot as plt\n",
    "np.random.seed(0)\n",
    "#data = pd.read_csv('digits-raw.csv')\n",
    "data = pd.read_csv('digits-embedding.csv',header=None)\n",
    "K = 10\n",
    "itr_count = 50"
   ]
  },
  {
   "cell_type": "code",
   "execution_count": 61,
   "metadata": {},
   "outputs": [],
   "source": [
    "np.random.seed(0)\n",
    "dset = data.iloc[:,2:]\n",
    "center_points =  np.random.randint(0,dset.shape[0], size=K)\n",
    "#dset[center_points[1]]\n",
    "centroids = dset.loc[dset.index.isin(center_points)]\n",
    "d = np.array(dset)\n",
    "centroids = np.array(centroids)\n",
    "itr = 0\n",
    "X = data.iloc[:, [2, 3]].values"
   ]
  },
  {
   "cell_type": "code",
   "execution_count": 62,
   "metadata": {},
   "outputs": [
    {
     "name": "stdout",
     "output_type": "stream",
     "text": [
      "[[ 38.53098726 -20.59288918]\n",
      " [ 28.88825375  -5.90262341]\n",
      " [ -6.39649605 -31.00468981]\n",
      " [ 22.45270404   1.34983517]\n",
      " [ 20.66160412  15.9840336 ]\n",
      " [ 36.46016777  -2.7400571 ]\n",
      " [-13.17937068   2.78395361]\n",
      " [ -3.63514171 -10.11788359]\n",
      " [ 42.19448824   4.98276588]\n",
      " [ 22.66256913   7.71331765]]\n"
     ]
    }
   ],
   "source": [
    "#startTime = time.time()\n",
    "\n",
    "#endTime = time.time()\n",
    "#print(\"Time Taken: \" + str(endTime-startTime) + 's.')\n",
    "centroids_prev = np.zeros((K,2))\n",
    "print centroids\n",
    "cluster = {}\n",
    "euclidean = np.zeros((len(d),len(centroids)))"
   ]
  },
  {
   "cell_type": "code",
   "execution_count": 63,
   "metadata": {},
   "outputs": [
    {
     "name": "stdout",
     "output_type": "stream",
     "text": [
      "0\n",
      "prev [[0. 0.]\n",
      " [0. 0.]\n",
      " [0. 0.]\n",
      " [0. 0.]\n",
      " [0. 0.]\n",
      " [0. 0.]\n",
      " [0. 0.]\n",
      " [0. 0.]\n",
      " [0. 0.]\n",
      " [0. 0.]]\n"
     ]
    },
    {
     "ename": "ValueError",
     "evalue": "could not broadcast input array from shape (1293) into shape (2)",
     "output_type": "error",
     "traceback": [
      "\u001b[0;31m---------------------------------------------------------------------------\u001b[0m",
      "\u001b[0;31mValueError\u001b[0m                                Traceback (most recent call last)",
      "\u001b[0;32m<ipython-input-63-a09617d59ba3>\u001b[0m in \u001b[0;36m<module>\u001b[0;34m()\u001b[0m\n\u001b[1;32m     14\u001b[0m \u001b[0;34m\u001b[0m\u001b[0m\n\u001b[1;32m     15\u001b[0m     \u001b[0;32mfor\u001b[0m \u001b[0mk\u001b[0m \u001b[0;32min\u001b[0m \u001b[0mrange\u001b[0m\u001b[0;34m(\u001b[0m\u001b[0mK\u001b[0m\u001b[0;34m)\u001b[0m\u001b[0;34m:\u001b[0m\u001b[0;34m\u001b[0m\u001b[0m\n\u001b[0;32m---> 16\u001b[0;31m         \u001b[0mcentroids\u001b[0m\u001b[0;34m[\u001b[0m\u001b[0mk\u001b[0m\u001b[0;34m]\u001b[0m \u001b[0;34m=\u001b[0m \u001b[0mnp\u001b[0m\u001b[0;34m.\u001b[0m\u001b[0mmean\u001b[0m\u001b[0;34m(\u001b[0m\u001b[0mcluster\u001b[0m\u001b[0;34m[\u001b[0m\u001b[0mk\u001b[0m\u001b[0;34m+\u001b[0m\u001b[0;36m1\u001b[0m\u001b[0;34m]\u001b[0m\u001b[0;34m,\u001b[0m\u001b[0maxis\u001b[0m\u001b[0;34m=\u001b[0m\u001b[0;36m0\u001b[0m\u001b[0;34m)\u001b[0m\u001b[0;34m\u001b[0m\u001b[0m\n\u001b[0m\u001b[1;32m     17\u001b[0m     \u001b[0;32mprint\u001b[0m \u001b[0;34m\"centroids\"\u001b[0m\u001b[0;34m,\u001b[0m \u001b[0mcentroids\u001b[0m\u001b[0;34m\u001b[0m\u001b[0m\n\u001b[1;32m     18\u001b[0m     \u001b[0;32mif\u001b[0m \u001b[0mnp\u001b[0m\u001b[0;34m.\u001b[0m\u001b[0marray_equal\u001b[0m\u001b[0;34m(\u001b[0m\u001b[0mcentroids_prev\u001b[0m\u001b[0;34m,\u001b[0m\u001b[0mcentroids\u001b[0m\u001b[0;34m)\u001b[0m \u001b[0;32mis\u001b[0m \u001b[0mTrue\u001b[0m\u001b[0;34m:\u001b[0m\u001b[0;34m\u001b[0m\u001b[0m\n",
      "\u001b[0;31mValueError\u001b[0m: could not broadcast input array from shape (1293) into shape (2)"
     ]
    }
   ],
   "source": [
    "for i in range(itr_count): \n",
    "    print i\n",
    "    print \"prev\", centroids_prev \n",
    "    for i in range(len(d)):\n",
    "        for j in range(len(centroids)):\n",
    "            euclidean[i][j] = np.linalg.norm(d[i]-centroids[j])\n",
    "    min_index = np.argmin(euclidean,axis=1)+1\n",
    "    dset['min_index'] = min_index\n",
    "    cluster = {}\n",
    "    for i in range(K):\n",
    "        cluster[i+1]=np.array([]).reshape(2,0)\n",
    "    for i in range(len(data)):\n",
    "        cluster[min_index[i]]=np.c_[cluster[min_index[i]],X[i]]\n",
    "    for k in range(K):\n",
    "        cluster[k+1]=cluster[k+1].T \n",
    "    for k in range(K):\n",
    "        centroids[k] = np.mean(cluster[k+1],axis=0)\n",
    "    print \"centroids\", centroids    \n",
    "    if np.array_equal(centroids_prev,centroids) is True:\n",
    "        print \"centroids same\"\n",
    "        break\n",
    "    else:\n",
    "        print \"yup\"\n",
    "        centroids_prev = copy.deepcopy(centroids) \n",
    "        itr = itr +1 \n",
    "        "
   ]
  },
  {
   "cell_type": "code",
   "execution_count": 59,
   "metadata": {},
   "outputs": [
    {
     "name": "stdout",
     "output_type": "stream",
     "text": [
      "7931777.752332633\n"
     ]
    }
   ],
   "source": [
    "cluster_sum = 0\n",
    "wcsd = 0\n",
    "for j in range(10):\n",
    "    for i in cluster[j+1]:\n",
    "        cluster_sum = cluster_sum + ((np.linalg.norm(i-centroids[j]))**2)\n",
    "    wcsd = wcsd + cluster_sum\n",
    "print wcsd\n"
   ]
  },
  {
   "cell_type": "code",
   "execution_count": 54,
   "metadata": {},
   "outputs": [
    {
     "name": "stdout",
     "output_type": "stream",
     "text": [
      "{1: array([[ 12.91304806, -16.95405522],\n",
      "       [ 17.55687043, -26.46115366],\n",
      "       [ 12.89131162, -16.93281511],\n",
      "       ...,\n",
      "       [ 25.72296862, -21.19935269],\n",
      "       [ 26.41150799, -26.71386209],\n",
      "       [ 29.64015325, -22.92573012]]), 2: array([[12.34036799,  0.16195324],\n",
      "       [12.73108179, -2.16584865],\n",
      "       [11.70580625, -0.24661916],\n",
      "       ...,\n",
      "       [16.3517603 , -9.32434082],\n",
      "       [ 2.71197431, -3.38359323],\n",
      "       [ 6.38240013,  4.80768952]]), 3: array([[-31.57583352, -16.67548037],\n",
      "       [-21.80774089, -15.06346015],\n",
      "       [-27.60026295, -13.14640834],\n",
      "       ...,\n",
      "       [-23.11677658, -19.37286217],\n",
      "       [-35.45953768,  -2.03252859],\n",
      "       [-18.69649679,  -6.21938154]]), 4: array([[ -8.84052424,   9.82421357],\n",
      "       [-14.32913538,  14.18463607],\n",
      "       [-12.59659908,  -0.33157911],\n",
      "       ...,\n",
      "       [-16.28981661,  -8.14145225],\n",
      "       [-10.74229831,  -7.94800003],\n",
      "       [ -5.42927456,  -3.73022258]]), 5: array([[ -9.3804223 ,  35.38628429],\n",
      "       [ -9.14032063,  27.66293245],\n",
      "       [ -3.65603458,  18.29068964],\n",
      "       ...,\n",
      "       [ -0.62298557,  26.34002803],\n",
      "       [-14.19333853,  26.37092146],\n",
      "       [ -1.86307458,  23.99607266]]), 6: array([[ 36.89961228, -19.90378864],\n",
      "       [ 22.94714756,  -2.7472048 ],\n",
      "       [ 38.55734336, -17.27411074],\n",
      "       ...,\n",
      "       [ 31.54604234,  -3.45569835],\n",
      "       [ 36.76617013,  -4.7696046 ],\n",
      "       [ 29.46400476, -11.99453663]]), 7: array([[-26.2837148 ,  16.83670948],\n",
      "       [-26.42185417,  17.90933774],\n",
      "       [-21.54956427,  12.90414416],\n",
      "       ...,\n",
      "       [-38.7375313 ,   7.96536643],\n",
      "       [-38.37389159,   9.26767807],\n",
      "       [-29.12479479,  24.31282157]]), 8: array([[-13.9383184 , -20.94943593],\n",
      "       [ -3.43949732, -35.33516477],\n",
      "       [  2.93133301, -19.77556032],\n",
      "       ...,\n",
      "       [ -7.16021465, -23.24841718],\n",
      "       [ -7.3622732 , -20.78312467],\n",
      "       [-11.70991111, -15.1741823 ]]), 9: array([[23.26086022, 21.21270437],\n",
      "       [29.03056335,  4.83941799],\n",
      "       [25.78709708,  7.0420092 ],\n",
      "       ...,\n",
      "       [20.8534028 , 13.11792922],\n",
      "       [37.95385485,  6.91917739],\n",
      "       [37.18266024,  7.95505144]]), 10: array([[12.55224264, 29.94973987],\n",
      "       [12.80386999, 24.87377907],\n",
      "       [ 6.96273597, 28.15276147],\n",
      "       ...,\n",
      "       [11.96533035,  7.97188898],\n",
      "       [10.19250255, 30.12771863],\n",
      "       [11.9750384 , 31.38650261]])}\n",
      "[[ 18.30924604 -22.85104973]\n",
      " [  8.41981196  -3.58615276]\n",
      " [-27.77624614 -15.41505249]\n",
      " [-10.78048431   4.08599851]\n",
      " [ -7.5992476   29.38174521]\n",
      " [ 31.06752617  -9.99272523]\n",
      " [-30.39635771  13.26843101]\n",
      " [ -5.2623441  -23.0475682 ]\n",
      " [ 27.62356134  11.91426946]\n",
      " [ 10.28874527  19.66143179]]\n"
     ]
    }
   ],
   "source": [
    "print cluster\n",
    "print centroids\n",
    "data['cluster'] = data.loc[:, ['distance_' + str(i) for i in centroids.keys()]].idxmin(axis=1)\\\n",
    ".map(lambda x: int(x.lstrip('distance_')))"
   ]
  },
  {
   "cell_type": "code",
   "execution_count": 607,
   "metadata": {},
   "outputs": [
    {
     "ename": "KeyError",
     "evalue": "1",
     "output_type": "error",
     "traceback": [
      "\u001b[0;31m---------------------------------------------------------------------------\u001b[0m",
      "\u001b[0;31mKeyError\u001b[0m                                  Traceback (most recent call last)",
      "\u001b[0;32m<ipython-input-607-e3ea5acfa4f3>\u001b[0m in \u001b[0;36m<module>\u001b[0;34m()\u001b[0m\n\u001b[1;32m      2\u001b[0m \u001b[0mwcsd\u001b[0m \u001b[0;34m=\u001b[0m \u001b[0;36m0\u001b[0m\u001b[0;34m\u001b[0m\u001b[0m\n\u001b[1;32m      3\u001b[0m \u001b[0;32mfor\u001b[0m \u001b[0mj\u001b[0m \u001b[0;32min\u001b[0m \u001b[0mrange\u001b[0m\u001b[0;34m(\u001b[0m\u001b[0mK\u001b[0m\u001b[0;34m)\u001b[0m\u001b[0;34m:\u001b[0m\u001b[0;34m\u001b[0m\u001b[0m\n\u001b[0;32m----> 4\u001b[0;31m     \u001b[0;32mfor\u001b[0m \u001b[0mi\u001b[0m \u001b[0;32min\u001b[0m \u001b[0mcluster\u001b[0m\u001b[0;34m[\u001b[0m\u001b[0mj\u001b[0m\u001b[0;34m+\u001b[0m\u001b[0;36m1\u001b[0m\u001b[0;34m]\u001b[0m\u001b[0;34m:\u001b[0m\u001b[0;34m\u001b[0m\u001b[0m\n\u001b[0m\u001b[1;32m      5\u001b[0m         \u001b[0mcluster_sum\u001b[0m \u001b[0;34m=\u001b[0m \u001b[0mcluster_sum\u001b[0m \u001b[0;34m+\u001b[0m \u001b[0;34m(\u001b[0m\u001b[0;34m(\u001b[0m\u001b[0mnp\u001b[0m\u001b[0;34m.\u001b[0m\u001b[0mlinalg\u001b[0m\u001b[0;34m.\u001b[0m\u001b[0mnorm\u001b[0m\u001b[0;34m(\u001b[0m\u001b[0mi\u001b[0m\u001b[0;34m-\u001b[0m\u001b[0mcentroids\u001b[0m\u001b[0;34m[\u001b[0m\u001b[0mj\u001b[0m\u001b[0;34m]\u001b[0m\u001b[0;34m)\u001b[0m\u001b[0;34m)\u001b[0m\u001b[0;34m**\u001b[0m\u001b[0;36m2\u001b[0m\u001b[0;34m)\u001b[0m\u001b[0;34m\u001b[0m\u001b[0m\n\u001b[1;32m      6\u001b[0m     \u001b[0mwcsd\u001b[0m \u001b[0;34m=\u001b[0m \u001b[0mwcsd\u001b[0m \u001b[0;34m+\u001b[0m \u001b[0mcluster_sum\u001b[0m\u001b[0;34m\u001b[0m\u001b[0m\n",
      "\u001b[0;31mKeyError\u001b[0m: 1"
     ]
    }
   ],
   "source": [
    "cluster_sum = 0\n",
    "wcsd = 0\n",
    "for j in range(K):\n",
    "    for i in cluster[j+1]:\n",
    "        cluster_sum = cluster_sum + ((np.linalg.norm(i-centroids[j]))**2)\n",
    "    wcsd = wcsd + cluster_sum\n",
    "print wcsd\n",
    "\n",
    "def withinClusterSSD(data):\n",
    "    data['squaredDistance'] = data['distanceToCentroid'] * data['distanceToCentroid']\n",
    "    return data['squaredDistance'].sum()"
   ]
  },
  {
   "cell_type": "code",
   "execution_count": null,
   "metadata": {},
   "outputs": [],
   "source": []
  }
 ],
 "metadata": {
  "kernelspec": {
   "display_name": "Python 2",
   "language": "python",
   "name": "python2"
  },
  "language_info": {
   "codemirror_mode": {
    "name": "ipython",
    "version": 2
   },
   "file_extension": ".py",
   "mimetype": "text/x-python",
   "name": "python",
   "nbconvert_exporter": "python",
   "pygments_lexer": "ipython2",
   "version": "2.7.15"
  }
 },
 "nbformat": 4,
 "nbformat_minor": 2
}
