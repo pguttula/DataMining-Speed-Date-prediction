{
 "cells": [
  {
   "cell_type": "code",
   "execution_count": 8,
   "metadata": {},
   "outputs": [],
   "source": [
    "import warnings\n",
    "warnings.filterwarnings('ignore')\n",
    "import numpy as np\n",
    "import pandas as pd\n",
    "import sys\n",
    "import os\n",
    "import random\n",
    "import time\n",
    "import copy\n",
    "import matplotlib.pyplot as plt\n",
    "from scipy.spatial.distance import cdist,pdist, squareform\n",
    "data = pd.read_csv('digits-embedding.csv',header=None)\n",
    "itr_count = 50"
   ]
  },
  {
   "cell_type": "code",
   "execution_count": null,
   "metadata": {},
   "outputs": [
    {
     "name": "stdout",
     "output_type": "stream",
     "text": [
      "Total dataset\n",
      "0\n",
      "K-VAL 2\n",
      "WC-SSD: 8983899.999516198\n",
      "SC: 0.3736113963526712\n",
      "NMI: 0.17492613594521755\n",
      "K-VAL 4\n"
     ]
    }
   ],
   "source": [
    "def within_cluster_sum_of_squares(cluster_data):\n",
    "    squared = cluster_data.distance_to_centroid * cluster_data.distance_to_centroid\n",
    "    return squared.sum()\n",
    "\n",
    "def silhouetteCoefficient(cluster_data):\n",
    "    Features = cluster_data.iloc[:, [2, 3]]\n",
    "    distbtwnallpoints = squareform(pdist(Features))\n",
    "    A = np.zeros(len(cluster_data))\n",
    "    B = np.zeros(len(cluster_data))\n",
    "    Si = np.zeros(len(cluster_data))\n",
    "    for i in range(len(cluster_data)):\n",
    "        cluster = cluster_data.iloc[i]['min_index']\n",
    "        samecluster = cluster_data[cluster_data['min_index'] == cluster].index.tolist()\n",
    "        othercluster = cluster_data[cluster_data['min_index'] != cluster].index.tolist()\n",
    "        A[i] = np.mean(distbtwnallpoints[i][samecluster])\n",
    "        B[i] = np.mean(distbtwnallpoints[i][othercluster])\n",
    "        Si[i] = (B[i]-A[i])/max(A[i], B[i])\n",
    "    return np.mean(Si)\n",
    "\n",
    "def nmi(cluster_data):\n",
    "    C = len(cluster_data['label'].unique())\n",
    "    G = len(cluster_data['min_index'].unique())\n",
    "    H_C = 0\n",
    "    H_G = 0\n",
    "    I_CG = 0\n",
    "    for i in range(C):\n",
    "        P_C = float(len(cluster_data[cluster_data['label'] == i]))/float(len(cluster_data))\n",
    "        H_C += (-1*P_C*np.log(P_C+0.00001))\n",
    "        for cluster in range(G):\n",
    "            P_G = float(len(cluster_data[cluster_data['min_index'] == cluster]))/float(len(cluster_data))\n",
    "            if i == 0:\n",
    "                H_G += (-1*P_G*np.log(P_G+0.00001))\n",
    "            P_CG = float(len(cluster_data[(cluster_data['label'] == i) & \\\n",
    "                                          (cluster_data['min_index'] == cluster)]))/ float(len(cluster_data))\n",
    "            I_CG += (P_CG*np.log((P_CG/(P_C*P_G))+0.00001))\n",
    "    nmi = I_CG/(H_C+H_G)\n",
    "    return nmi\n",
    "def kmeans(data,itr_count,K,seed_val):\n",
    "    np.random.seed(seed_val)\n",
    "    cluster_data = data.iloc[:, [2, 3]]\n",
    "    random_points =  np.random.randint(0,cluster_data.shape[0], size=K)\n",
    "    centroids = np.array(cluster_data.ix[random_points])\n",
    "    centroids_prev = np.zeros((K,2))\n",
    "    euclidean = np.zeros((len(cluster_data),len(centroids)))\n",
    "    arr_data = np.array(cluster_data)\n",
    "    itr = 0\n",
    "    for i in range(itr_count):\n",
    "        for i in range(len(cluster_data)):\n",
    "            for j in range(len(centroids)):\n",
    "                euclidean[i][j] =  np.linalg.norm(arr_data[i]- centroids[j])\n",
    "        min_index = np.argmin(euclidean,axis=1)\n",
    "        cluster_data['min_index'] = min_index\n",
    "        cluster_data['distance_to_centroid'] = euclidean.min(axis=1)\n",
    "        if itr < 49:\n",
    "            for i in range(K):\n",
    "                temp = cluster_data[cluster_data['min_index']== i]\n",
    "                temp1 =  temp[[2,3]]\n",
    "                centroids[i] = np.mean(temp1)   \n",
    "        if np.array_equal(centroids_prev,centroids) is True:\n",
    "            itr = itr +1\n",
    "            break\n",
    "        else:\n",
    "            centroids_prev = copy.deepcopy(centroids) \n",
    "            itr = itr +1\n",
    "    cluster_data['label'] = data[1]\n",
    "    cluster_data['image_id'] = data[0]\n",
    "    WC_SSD = within_cluster_sum_of_squares(cluster_data)\n",
    "    SC = silhouetteCoefficient(cluster_data)\n",
    "    NMI = nmi(cluster_data)\n",
    "    return WC_SSD,SC, NMI\n",
    "\n",
    "def kloop(data,seed_val):\n",
    "    for i in [2,4,8,16,32]:\n",
    "        print \"K-VAL\",i\n",
    "        WC_SSD,SC, NMI = kmeans(data,itr_count,i,seed_val)\n",
    "        print \"WC-SSD:\",WC_SSD\n",
    "        print \"SC:\",SC\n",
    "        print \"NMI:\",NMI\n",
    "print \"Total dataset\"\n",
    "for i in range(10):\n",
    "    print i\n",
    "    kloop(data,i)    "
   ]
  },
  {
   "cell_type": "code",
   "execution_count": null,
   "metadata": {},
   "outputs": [],
   "source": [
    "{0: {8: 335733.13198965101, 16: 184248.51627225231, 2: 4975048.3899274319, 4: 623865.31116823317, 32: 84269.728725130451}, 1: {8: 335733.13198965101, 16: 184248.51627225231, 2: 4975048.3899274319, 4: 623865.31116823317, 32: 84269.728725130451}, 2: {8: 335733.13198965101, 16: 184248.51627225231, 2: 4975048.3899274319, 4: 623865.31116823317, 32: 84269.728725130451}, 3: {8: 335733.13198965101, 16: 184248.51627225231, 2: 4975048.3899274319, 4: 623865.31116823317, 32: 84269.728725130451}, 4: {8: 335733.13198965101, 16: 184248.51627225231, 2: 4975048.3899274319, 4: 623865.31116823317, 32: 84269.728725130451}, 5: {8: 335733.13198965101, 16: 184248.51627225231, 2: 4975048.3899274319, 4: 623865.31116823317, 32: 84269.728725130451}, 6: {8: 335733.13198965101, 16: 184248.51627225231, 2: 4975048.3899274319, 4: 623865.31116823317, 32: 84269.728725130451}, 7: {8: 335733.13198965101, 16: 184248.51627225231, 2: 4975048.3899274319, 4: 623865.31116823317, 32: 84269.728725130451}, 8: {8: 335733.13198965101, 16: 184248.51627225231, 2: 4975048.3899274319, 4: 623865.31116823317, 32: 84269.728725130451}, 9: {8:\n",
    "335733.13198965101, 16: 184248.51627225231, 2: 4975048.3899274319, 4: 623865.31116823317, 32: 84269.728725130451}}"
   ]
  },
  {
   "cell_type": "code",
   "execution_count": 2,
   "metadata": {},
   "outputs": [
    {
     "data": {
      "image/png": "[encoded data removed]",
      "text/plain": [
       "<Figure size 432x288 with 1 Axes>"
      ]
     },
     "metadata": {
      "needs_background": "light"
     },
     "output_type": "display_data"
    }
   ],
   "source": [
    "import scipy as sp\n",
    "import warnings\n",
    "warnings.filterwarnings('ignore')\n",
    "import numpy as np\n",
    "import pandas as pd\n",
    "import sys\n",
    "import os\n",
    "import matplotlib.pyplot as plt\n",
    "\n",
    "x = np.array([2,4,8,16,32])\n",
    "\n",
    "y = np.round(np.array([8983899.9995161984,4398977.8396483399,1887621.7327022392,855453.19122656272,407945.05260677205]),3)\n",
    "\n",
    "y1 = np.round(np.array([4975048.3899274319,623865.31116823317,335733.13198965101,184248.51627225231,84269.728725130451]),3)\n",
    "\n",
    "y2 = np.round(np.array([340372.41942807235,234388.57241930984,94277.20776570888,48931.980593146582,25965.939307835339]),3)\n",
    "#print y\n",
    "area = np.pi*10\n",
    "\n",
    "#plt.scatter(x, y, s=area, color = 'purple', alpha=0.5)\n",
    "plt.plot(x, y, label = 'Dataset1',color = 'navy')\n",
    "plt.plot(x, y1, label = 'Dataset2',color = 'g',)\n",
    "plt.plot(x, y2, label = 'Dataset3',color = 'coral',)\n",
    "\n",
    "plt.title('K vs WC-SSD for 3 Datasets',fontsize=20,color='purple')\n",
    "plt.xlabel('K',fontsize=14,color='purple')\n",
    "plt.ylabel('WC SSD',fontsize=14,color='purple')\n",
    "plt.legend(loc='upper right')\n",
    "plt.savefig('Fig-2.3.1_WCSSD.pdf',bbox_inches='tight')\n",
    "\n",
    "plt.autoscale(enable=False, axis='y', tight=True)\n",
    "plt.show()\n",
    "plt.close()"
   ]
  },
  {
   "cell_type": "code",
   "execution_count": null,
   "metadata": {},
   "outputs": [],
   "source": [
    "import scipy as sp\n",
    "import warnings\n",
    "warnings.filterwarnings('ignore')\n",
    "import numpy as np\n",
    "import pandas as pd\n",
    "import sys\n",
    "import os\n",
    "import matplotlib.pyplot as plt\n",
    "\n",
    "x = np.array([2,4,8,16,32])\n",
    "\n",
    "y = np.round(np.array([8983899.9995161984,4398977.8396483399,1887621.7327022392,855453.19122656272,407945.05260677205]),3)\n",
    "\n",
    "y1 = np.round(np.array([4975048.3899274319,623865.31116823317,335733.13198965101,184248.51627225231,84269.728725130451]),3)\n",
    "\n",
    "y2 = np.round(np.array([0.061446159885829736,0.27191146937014843,0.48314883508933093,0.73893152637155646,0.48314883508933093]),3)\n",
    "#print y\n",
    "area = np.pi*10\n",
    "\n",
    "#plt.scatter(x, y, s=area, color = 'purple', alpha=0.5)\n",
    "plt.plot(x, y, label = 'Dataset1',color = 'navy')\n",
    "plt.plot(x, y1, label = 'Dataset2',color = 'g',)\n",
    "plt.plot(x, y2, label = 'Dataset3',color = 'coral',)\n",
    "\n",
    "plt.title('K vs WC-SSD for 3 Datasets',fontsize=20,color='purple')\n",
    "plt.xlabel('K',fontsize=14,color='purple')\n",
    "plt.ylabel('WC SSD',fontsize=14,color='purple')\n",
    "plt.legend(loc='upper right')\n",
    "plt.savefig('Fig-2.3.1_WCSSD.pdf',bbox_inches='tight')\n",
    "\n",
    "plt.autoscale(enable=False, axis='y', tight=True)\n",
    "plt.show()\n",
    "plt.close()"
   ]
  },
  {
   "cell_type": "code",
   "execution_count": 6,
   "metadata": {},
   "outputs": [
    {
     "data": {
      "text/plain": [
       "0.0"
      ]
     },
     "execution_count": 6,
     "metadata": {},
     "output_type": "execute_result"
    }
   ],
   "source": [
    "a = np.array([8983899.9995161984,8983899.9995161984,8983899.9995161984,8983899.9995161984,8983899.9995161984])\n",
    "np.std(a)"
   ]
  },
  {
   "cell_type": "code",
   "execution_count": 7,
   "metadata": {},
   "outputs": [
    {
     "ename": "NameError",
     "evalue": "name 'digitsData' is not defined",
     "output_type": "error",
     "traceback": [
      "\u001b[0;31m---------------------------------------------------------------------------\u001b[0m",
      "\u001b[0;31mNameError\u001b[0m                                 Traceback (most recent call last)",
      "\u001b[0;32m<ipython-input-7-aa615f1124e9>\u001b[0m in \u001b[0;36m<module>\u001b[0;34m()\u001b[0m\n\u001b[1;32m     22\u001b[0m \u001b[0mnp\u001b[0m\u001b[0;34m.\u001b[0m\u001b[0mrandom\u001b[0m\u001b[0;34m.\u001b[0m\u001b[0mseed\u001b[0m\u001b[0;34m(\u001b[0m\u001b[0;36m0\u001b[0m\u001b[0;34m)\u001b[0m\u001b[0;34m\u001b[0m\u001b[0m\n\u001b[1;32m     23\u001b[0m \u001b[0mK\u001b[0m \u001b[0;34m=\u001b[0m \u001b[0;36m8\u001b[0m\u001b[0;34m\u001b[0m\u001b[0m\n\u001b[0;32m---> 24\u001b[0;31m \u001b[0mN\u001b[0m \u001b[0;34m=\u001b[0m \u001b[0mlen\u001b[0m\u001b[0;34m(\u001b[0m\u001b[0mdigitsData\u001b[0m\u001b[0;34m)\u001b[0m\u001b[0;34m\u001b[0m\u001b[0m\n\u001b[0m\u001b[1;32m     25\u001b[0m \u001b[0mclusteredData\u001b[0m\u001b[0;34m,\u001b[0m \u001b[0mcentroids\u001b[0m \u001b[0;34m=\u001b[0m \u001b[0mkmeans\u001b[0m\u001b[0;34m(\u001b[0m\u001b[0mdigitsData\u001b[0m\u001b[0;34m,\u001b[0m \u001b[0mK\u001b[0m\u001b[0;34m,\u001b[0m \u001b[0mN\u001b[0m\u001b[0;34m)\u001b[0m\u001b[0;34m\u001b[0m\u001b[0m\n\u001b[1;32m     26\u001b[0m \u001b[0mnmi1\u001b[0m \u001b[0;34m=\u001b[0m \u001b[0mnmi\u001b[0m\u001b[0;34m(\u001b[0m\u001b[0mclusteredData\u001b[0m\u001b[0;34m)\u001b[0m\u001b[0;34m\u001b[0m\u001b[0m\n",
      "\u001b[0;31mNameError\u001b[0m: name 'digitsData' is not defined"
     ]
    }
   ],
   "source": [
    "def visualizeFeatures(data, labelVals):\n",
    "\tN = len(data)\n",
    "\texamples = np.random.randint(0, N, size=1000)\n",
    "\tdataExamples = data.iloc[examples]\n",
    "\tnumLabels = len(data['cluster'].unique())\n",
    "\tdataExamples = dataExamples.groupby('cluster')\n",
    "\tfig, ax = plt.subplots()\n",
    "\n",
    "\tfor i in range(numLabels):\n",
    "\t\tfeatureX = dataExamples.get_group(labelVals[i]).featureX\n",
    "\t\tfeatureY = dataExamples.get_group(labelVals[i]).featureY\n",
    "\t\tax.scatter(featureX, featureY, c=colors[i], label=labelVals[i])\n",
    "\n",
    "\tax.legend()\n",
    "\tplt.title(\"Clustered Data\")\n",
    "\tplt.ylabel('Image Embedding Feature Y')\n",
    "\tplt.xlabel('Image Embedding Feature X')\n",
    "\tplt.show()\n",
    "\tplt.close()\n",
    "\n",
    "\n",
    "np.random.seed(0)\n",
    "K = 8\n",
    "N = len(data)\n",
    "clusteredData, centroids = kmeans(digitsData, K, N)\n",
    "nmi1 = nmi(clusteredData)\n",
    "print('NMI Dataset 1: ' + str(nmi1))\n",
    "visualizeFeatures(clusteredData, [0,1,2,3,4,5,6,7,8,9])\n",
    "\n",
    "del clusteredData, centroids\n",
    "\n",
    "K = 4\n",
    "N = len(digitsData1)\n",
    "clusteredData, centroids = kmeans(digitsData1, K, N)\n",
    "nmi2 = nmi(clusteredData)\n",
    "print('NMI Dataset 2: ' + str(nmi2))\n",
    "visualizeFeatures(clusteredData, [0,1,2,3])\n",
    "\n",
    "del clusteredData, centroids\n",
    "\n",
    "K = 4\n",
    "N = len(digitsData2)\n",
    "clusteredData, centroids = kmeans(digitsData2, K, N)\n",
    "nmi3 = nmi(clusteredData)\n",
    "print('NMI Dataset 3: ' + str(nmi3))\n",
    "visualizeFeatures(clusteredData, [0,1,2,3,4,5,6,7])\n",
    "\n",
    "print('Finished 2.2.4')"
   ]
  },
  {
   "cell_type": "code",
   "execution_count": null,
   "metadata": {},
   "outputs": [],
   "source": []
  }
 ],
 "metadata": {
  "kernelspec": {
   "display_name": "Python 2",
   "language": "python",
   "name": "python2"
  },
  "language_info": {
   "codemirror_mode": {
    "name": "ipython",
    "version": 2
   },
   "file_extension": ".py",
   "mimetype": "text/x-python",
   "name": "python",
   "nbconvert_exporter": "python",
   "pygments_lexer": "ipython2",
   "version": "2.7.15"
  }
 },
 "nbformat": 4,
 "nbformat_minor": 2
}
